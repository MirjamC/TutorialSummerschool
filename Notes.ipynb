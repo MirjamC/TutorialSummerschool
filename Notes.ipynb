{
 "cells": [
  {
   "cell_type": "markdown",
   "id": "286208bd",
   "metadata": {},
   "source": [
    "# To do:\n",
    "\n",
    "## Notebook 1: data inspectie\n",
    "\n",
    "* Dubbele eruit gooien\n",
    "* Inladen van complete set met fietsen EN treinen en alle subcategorieën\n",
    "* Data inspectie\n",
    "** Drop_duplicates kan gebruikt worden om te kijken of er dubbele rijen inzitten. Deze kunnen verwijderd met drop_dupliacten (dubbele rijen erin zetten en verwijderen)\n",
    "** Kijken voor duplicaten door lengte te vergelijken met unieke identifiers want we willen nu unieke artikelen\n",
    "** Kijken wat inhoud van de categoriale kolommen zijn: type, subcategroy, category, spatial. Kijken welke waarden erin zitten en eventueel rare waarden verbeteren (bijv trien ipv trein (toevoegen). \n",
    "** Bij jaar kijken naar minimaal en maximaal jaar. Bij DL kijken naar min en max. \n",
    "** Kijken of er geen waarden zijn die not a number (lege cellen) zijn (of None). \n",
    "\n",
    "## Notebook 2: Data exploratie\n",
    "* Grafieken:\n",
    "** Fiets versus trein\n",
    "** Kijken of dit verschil hetzelfde is bij type en spatial\n",
    "* Groot verschil dus voor verder kijken splitsen\n",
    "** twee frames maken: per frame kijken naar: advertentie, familiebericht artikel enz. Naar spatial. Grafiek over de jaren. (ze erop wijzen dat de jaren in de goede volgorde moeten staan!)\n",
    "Optioneel:\n",
    "** visualse top ten words per year (glam workbench)\n",
    "\n",
    "\n",
    "## Notebook 3: data filtering\n",
    "* Iets met de lengte? --> een ondergrens voor artikelen?\n",
    "* In ieder geval filteren op dictionary score --> 70% minimaal?\n",
    "* Filteren op alleen fiets (want behapbaar)\n",
    "* Filteren op alleen artikel \n",
    "* Opslaan\n",
    "\n",
    "## Notebook 4: Named entity recognition and POS\n",
    "* Code in comments hoe je een doc item maakt \n",
    "* NER in 2 categorieën - laten zien hoe het werkt\n",
    "* POS in 2 categorieën - laten zien hoe het werkt\n",
    "* visualise de NER \n",
    "* visualise de POS?\n",
    "* Laten zien hoe je terug kan naar de officiele tekst/Delpher?\n",
    "\n",
    "* vergelijkingen landelijk versus regionaal:\n",
    "% gebruikte entitites\n",
    "% gebruikte pos\n",
    "\n"
   ]
  },
  {
   "cell_type": "markdown",
   "id": "8373ca9f",
   "metadata": {},
   "source": [
    "# To do buiten Notebooks:\n",
    "* Dataset inkorten\n",
    "* alle woorden lowercase maken?\n",
    "* Length verwijderne uit dataset\n",
    "* Index cols fixen"
   ]
  },
  {
   "cell_type": "code",
   "execution_count": null,
   "id": "85864358",
   "metadata": {},
   "outputs": [],
   "source": []
  }
 ],
 "metadata": {
  "kernelspec": {
   "display_name": "Python 3 (ipykernel)",
   "language": "python",
   "name": "python3"
  },
  "language_info": {
   "codemirror_mode": {
    "name": "ipython",
    "version": 3
   },
   "file_extension": ".py",
   "mimetype": "text/x-python",
   "name": "python",
   "nbconvert_exporter": "python",
   "pygments_lexer": "ipython3",
   "version": "3.9.12"
  }
 },
 "nbformat": 4,
 "nbformat_minor": 5
}
