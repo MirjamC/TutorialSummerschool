{
 "cells": [
  {
   "cell_type": "code",
   "execution_count": 50,
   "id": "71530f52",
   "metadata": {},
   "outputs": [],
   "source": [
    "import pandas as pd\n",
    "import spacy\n",
    "from collections import Counter"
   ]
  },
  {
   "cell_type": "code",
   "execution_count": 74,
   "id": "9dda1a91",
   "metadata": {},
   "outputs": [],
   "source": [
    "nlp = spacy.load(\"nl_core_news_sm\")"
   ]
  },
  {
   "cell_type": "code",
   "execution_count": 75,
   "id": "6adfcbef",
   "metadata": {},
   "outputs": [],
   "source": [
    "data = pd.read_csv('data/artikelen.csv')"
   ]
  },
  {
   "cell_type": "code",
   "execution_count": 76,
   "id": "367e2f99",
   "metadata": {},
   "outputs": [
    {
     "data": {
      "text/html": [
       "<div>\n",
       "<style scoped>\n",
       "    .dataframe tbody tr th:only-of-type {\n",
       "        vertical-align: middle;\n",
       "    }\n",
       "\n",
       "    .dataframe tbody tr th {\n",
       "        vertical-align: top;\n",
       "    }\n",
       "\n",
       "    .dataframe thead th {\n",
       "        text-align: right;\n",
       "    }\n",
       "</style>\n",
       "<table border=\"1\" class=\"dataframe\">\n",
       "  <thead>\n",
       "    <tr style=\"text-align: right;\">\n",
       "      <th></th>\n",
       "      <th>Unnamed: 0</th>\n",
       "      <th>identifier</th>\n",
       "      <th>type</th>\n",
       "      <th>title</th>\n",
       "      <th>date</th>\n",
       "      <th>content</th>\n",
       "      <th>subcategory</th>\n",
       "      <th>category</th>\n",
       "      <th>Year</th>\n",
       "      <th>DL score</th>\n",
       "      <th>Length</th>\n",
       "      <th>spatial</th>\n",
       "    </tr>\n",
       "  </thead>\n",
       "  <tbody>\n",
       "    <tr>\n",
       "      <th>0</th>\n",
       "      <td>141</td>\n",
       "      <td>http://resolver.kb.nl/resolve?urn=ddd:01026254...</td>\n",
       "      <td>artikel</td>\n",
       "      <td>DUITSCHLAND.</td>\n",
       "      <td>1869/03/03 00:00:00</td>\n",
       "      <td>WEENEN, 28 Febr. Men zal zich herinneren dat o...</td>\n",
       "      <td>trein</td>\n",
       "      <td>trein</td>\n",
       "      <td>1869</td>\n",
       "      <td>76.958525</td>\n",
       "      <td>434</td>\n",
       "      <td>Landelijk</td>\n",
       "    </tr>\n",
       "    <tr>\n",
       "      <th>1</th>\n",
       "      <td>405</td>\n",
       "      <td>http://resolver.kb.nl/resolve?urn=MMKB23:00138...</td>\n",
       "      <td>artikel</td>\n",
       "      <td>Verspreide Berichten.</td>\n",
       "      <td>1869/08/03 00:00:00</td>\n",
       "      <td>De heer Gladstone is vrij ernstig ziek geweest...</td>\n",
       "      <td>trein</td>\n",
       "      <td>trein</td>\n",
       "      <td>1869</td>\n",
       "      <td>80.363636</td>\n",
       "      <td>275</td>\n",
       "      <td>Landelijk</td>\n",
       "    </tr>\n",
       "  </tbody>\n",
       "</table>\n",
       "</div>"
      ],
      "text/plain": [
       "   Unnamed: 0                                         identifier     type  \\\n",
       "0         141  http://resolver.kb.nl/resolve?urn=ddd:01026254...  artikel   \n",
       "1         405  http://resolver.kb.nl/resolve?urn=MMKB23:00138...  artikel   \n",
       "\n",
       "                   title                 date  \\\n",
       "0           DUITSCHLAND.  1869/03/03 00:00:00   \n",
       "1  Verspreide Berichten.  1869/08/03 00:00:00   \n",
       "\n",
       "                                             content subcategory category  \\\n",
       "0  WEENEN, 28 Febr. Men zal zich herinneren dat o...       trein    trein   \n",
       "1  De heer Gladstone is vrij ernstig ziek geweest...       trein    trein   \n",
       "\n",
       "   Year   DL score  Length    spatial  \n",
       "0  1869  76.958525     434  Landelijk  \n",
       "1  1869  80.363636     275  Landelijk  "
      ]
     },
     "execution_count": 76,
     "metadata": {},
     "output_type": "execute_result"
    }
   ],
   "source": [
    "data.head(2)"
   ]
  },
  {
   "cell_type": "code",
   "execution_count": 77,
   "id": "771a4c77",
   "metadata": {},
   "outputs": [
    {
     "data": {
      "text/plain": [
       "533"
      ]
     },
     "execution_count": 77,
     "metadata": {},
     "output_type": "execute_result"
    }
   ],
   "source": [
    "len(data)"
   ]
  },
  {
   "cell_type": "code",
   "execution_count": 78,
   "id": "24e844b8",
   "metadata": {},
   "outputs": [],
   "source": [
    "data = data.dropna(subset=['content'])"
   ]
  },
  {
   "cell_type": "code",
   "execution_count": 79,
   "id": "4b16c34f",
   "metadata": {},
   "outputs": [],
   "source": [
    "def process_text(text):\n",
    "    return nlp(text)\n",
    "\n",
    "def flatten(xss):\n",
    "    return [x for xs in xss for x in xs]"
   ]
  },
  {
   "cell_type": "code",
   "execution_count": 80,
   "id": "1548a05b",
   "metadata": {},
   "outputs": [],
   "source": [
    "data[\"doc\"] = data[\"content\"].apply(process_text)"
   ]
  },
  {
   "cell_type": "code",
   "execution_count": 81,
   "id": "d2c49b84",
   "metadata": {},
   "outputs": [],
   "source": [
    "import pickle\n",
    "\n",
    "with open('data/processed_docs.pkl', 'wb') as f:\n",
    "    pickle.dump(data, f)"
   ]
  },
  {
   "cell_type": "code",
   "execution_count": null,
   "id": "71bd0ac9",
   "metadata": {},
   "outputs": [],
   "source": []
  },
  {
   "cell_type": "code",
   "execution_count": 82,
   "id": "7c325883",
   "metadata": {},
   "outputs": [],
   "source": [
    "with open('data/processed_docs.pkl', 'rb') as f:\n",
    "    processed_docs = pickle.load(f)"
   ]
  },
  {
   "cell_type": "code",
   "execution_count": 83,
   "id": "9944f879",
   "metadata": {},
   "outputs": [
    {
     "data": {
      "text/html": [
       "<div>\n",
       "<style scoped>\n",
       "    .dataframe tbody tr th:only-of-type {\n",
       "        vertical-align: middle;\n",
       "    }\n",
       "\n",
       "    .dataframe tbody tr th {\n",
       "        vertical-align: top;\n",
       "    }\n",
       "\n",
       "    .dataframe thead th {\n",
       "        text-align: right;\n",
       "    }\n",
       "</style>\n",
       "<table border=\"1\" class=\"dataframe\">\n",
       "  <thead>\n",
       "    <tr style=\"text-align: right;\">\n",
       "      <th></th>\n",
       "      <th>Unnamed: 0</th>\n",
       "      <th>identifier</th>\n",
       "      <th>type</th>\n",
       "      <th>title</th>\n",
       "      <th>date</th>\n",
       "      <th>content</th>\n",
       "      <th>subcategory</th>\n",
       "      <th>category</th>\n",
       "      <th>Year</th>\n",
       "      <th>DL score</th>\n",
       "      <th>Length</th>\n",
       "      <th>spatial</th>\n",
       "      <th>doc</th>\n",
       "    </tr>\n",
       "  </thead>\n",
       "  <tbody>\n",
       "    <tr>\n",
       "      <th>0</th>\n",
       "      <td>141</td>\n",
       "      <td>http://resolver.kb.nl/resolve?urn=ddd:01026254...</td>\n",
       "      <td>artikel</td>\n",
       "      <td>DUITSCHLAND.</td>\n",
       "      <td>1869/03/03 00:00:00</td>\n",
       "      <td>WEENEN, 28 Febr. Men zal zich herinneren dat o...</td>\n",
       "      <td>trein</td>\n",
       "      <td>trein</td>\n",
       "      <td>1869</td>\n",
       "      <td>76.958525</td>\n",
       "      <td>434</td>\n",
       "      <td>Landelijk</td>\n",
       "      <td>(WEENEN, ,, 28, Febr, ., Men, zal, zich, herin...</td>\n",
       "    </tr>\n",
       "    <tr>\n",
       "      <th>1</th>\n",
       "      <td>405</td>\n",
       "      <td>http://resolver.kb.nl/resolve?urn=MMKB23:00138...</td>\n",
       "      <td>artikel</td>\n",
       "      <td>Verspreide Berichten.</td>\n",
       "      <td>1869/08/03 00:00:00</td>\n",
       "      <td>De heer Gladstone is vrij ernstig ziek geweest...</td>\n",
       "      <td>trein</td>\n",
       "      <td>trein</td>\n",
       "      <td>1869</td>\n",
       "      <td>80.363636</td>\n",
       "      <td>275</td>\n",
       "      <td>Landelijk</td>\n",
       "      <td>(De, heer, Gladstone, is, vrij, ernstig, ziek,...</td>\n",
       "    </tr>\n",
       "  </tbody>\n",
       "</table>\n",
       "</div>"
      ],
      "text/plain": [
       "   Unnamed: 0                                         identifier     type  \\\n",
       "0         141  http://resolver.kb.nl/resolve?urn=ddd:01026254...  artikel   \n",
       "1         405  http://resolver.kb.nl/resolve?urn=MMKB23:00138...  artikel   \n",
       "\n",
       "                   title                 date  \\\n",
       "0           DUITSCHLAND.  1869/03/03 00:00:00   \n",
       "1  Verspreide Berichten.  1869/08/03 00:00:00   \n",
       "\n",
       "                                             content subcategory category  \\\n",
       "0  WEENEN, 28 Febr. Men zal zich herinneren dat o...       trein    trein   \n",
       "1  De heer Gladstone is vrij ernstig ziek geweest...       trein    trein   \n",
       "\n",
       "   Year   DL score  Length    spatial  \\\n",
       "0  1869  76.958525     434  Landelijk   \n",
       "1  1869  80.363636     275  Landelijk   \n",
       "\n",
       "                                                 doc  \n",
       "0  (WEENEN, ,, 28, Febr, ., Men, zal, zich, herin...  \n",
       "1  (De, heer, Gladstone, is, vrij, ernstig, ziek,...  "
      ]
     },
     "execution_count": 83,
     "metadata": {},
     "output_type": "execute_result"
    }
   ],
   "source": [
    "processed_docs.head(2)"
   ]
  },
  {
   "cell_type": "markdown",
   "id": "2f5afebe",
   "metadata": {},
   "source": [
    "PERSON:      People, including fictional.\n",
    "NORP:        Nationalities or religious or political groups.\n",
    "FAC:         Buildings, airports, highways, bridges, etc.\n",
    "ORG:         Companies, agencies, institutions, etc.\n",
    "GPE:         Countries, cities, states.\n",
    "LOC:         Non-GPE locations, mountain ranges, bodies of water.\n",
    "PRODUCT:     Objects, vehicles, foods, etc. (Not services.)\n",
    "EVENT:       Named hurricanes, battles, wars, sports events, etc.\n",
    "WORK_OF_ART: Titles of books, songs, etc.\n",
    "LAW:         Named documents made into laws.\n",
    "LANGUAGE:    Any named language.\n",
    "DATE:        Absolute or relative dates or periods.\n",
    "TIME:        Times smaller than a day.\n",
    "PERCENT:     Percentage, including ”%“.\n",
    "MONEY:       Monetary values, including unit.\n",
    "QUANTITY:    Measurements, as of weight or distance.\n",
    "ORDINAL:     “first”, “second”, etc.\n",
    "CARDINAL:    Numerals that do not fall under another type."
   ]
  },
  {
   "cell_type": "code",
   "execution_count": 84,
   "id": "2d1df4bd",
   "metadata": {},
   "outputs": [
    {
     "data": {
      "text/plain": [
       "'Countries, cities, states'"
      ]
     },
     "execution_count": 84,
     "metadata": {},
     "output_type": "execute_result"
    }
   ],
   "source": [
    "spacy.explain('GPE')"
   ]
  },
  {
   "cell_type": "code",
   "execution_count": 145,
   "id": "8dc28af5",
   "metadata": {},
   "outputs": [],
   "source": [
    "def get_gpe(doc):\n",
    "    return [ent.text for ent in doc.ents if ent.label_ == 'NORP']"
   ]
  },
  {
   "cell_type": "code",
   "execution_count": 146,
   "id": "bc4266d9",
   "metadata": {},
   "outputs": [],
   "source": [
    "processed_docs['GPEs'] = processed_docs['doc'].apply(get_gpe)"
   ]
  },
  {
   "cell_type": "code",
   "execution_count": 147,
   "id": "fd035c2f",
   "metadata": {},
   "outputs": [],
   "source": [
    "fiets = processed_docs[processed_docs['category'] == 'fiets']"
   ]
  },
  {
   "cell_type": "code",
   "execution_count": 148,
   "id": "f3d042ce",
   "metadata": {},
   "outputs": [],
   "source": [
    "trein = processed_docs[processed_docs['category'] == 'trein']"
   ]
  },
  {
   "cell_type": "code",
   "execution_count": 149,
   "id": "f381890e",
   "metadata": {},
   "outputs": [],
   "source": [
    "trein_lan = trein[trein['spatial'] == 'Landelijk']"
   ]
  },
  {
   "cell_type": "code",
   "execution_count": 150,
   "id": "bb96f6c9",
   "metadata": {},
   "outputs": [],
   "source": [
    "trein_reg = trein[trein['spatial'] == 'Regionaal/lokaal']"
   ]
  },
  {
   "cell_type": "code",
   "execution_count": 151,
   "id": "6e1d4563",
   "metadata": {},
   "outputs": [],
   "source": [
    "fiets_gpe = fiets['GPEs'].values.tolist()\n",
    "fiets_gpe = flatten(fiets_gpe)"
   ]
  },
  {
   "cell_type": "code",
   "execution_count": 152,
   "id": "d46f8e0d",
   "metadata": {},
   "outputs": [],
   "source": [
    "trein_lan_gpe = trein_lan['GPEs'].values.tolist()\n",
    "trein_lan_gpe = flatten(trein_lan_gpe)"
   ]
  },
  {
   "cell_type": "code",
   "execution_count": 153,
   "id": "afb41523",
   "metadata": {},
   "outputs": [],
   "source": [
    "trein_reg_gpe = trein_reg['GPEs'].values.tolist()\n",
    "trein_reg_gpe = flatten(trein_reg_gpe)"
   ]
  },
  {
   "cell_type": "code",
   "execution_count": 154,
   "id": "06a17082",
   "metadata": {},
   "outputs": [
    {
     "data": {
      "text/plain": [
       "[('Fransche', 15),\n",
       " ('Duitsche', 13),\n",
       " ('Nederlandsche', 12),\n",
       " ('H.', 11),\n",
       " ('franken', 11),\n",
       " ('Belgische', 9),\n",
       " ('Franschen', 9),\n",
       " ('Amerikaansche', 8),\n",
       " ('liberalen', 7),\n",
       " ('liberale', 6)]"
      ]
     },
     "execution_count": 154,
     "metadata": {},
     "output_type": "execute_result"
    }
   ],
   "source": [
    "Counter(fiets_gpe).most_common(10)"
   ]
  },
  {
   "cell_type": "code",
   "execution_count": 155,
   "id": "1d52d0da",
   "metadata": {},
   "outputs": [
    {
     "data": {
      "text/plain": [
       "[('’t', 67),\n",
       " ('Nederlandsche', 30),\n",
       " ('liberale', 29),\n",
       " ('liberalen', 25),\n",
       " ('katholieke', 25),\n",
       " ('Fransche', 23),\n",
       " ('Katholieken', 22),\n",
       " ('Belgische', 15),\n",
       " ('H.', 14),\n",
       " ('Pruisen', 13)]"
      ]
     },
     "execution_count": 155,
     "metadata": {},
     "output_type": "execute_result"
    }
   ],
   "source": [
    "Counter(trein_lan_gpe).most_common(10)"
   ]
  },
  {
   "cell_type": "code",
   "execution_count": 156,
   "id": "0aaf9ec9",
   "metadata": {},
   "outputs": [
    {
     "data": {
      "text/plain": [
       "[('Nederlandsche', 51),\n",
       " ('Fransche', 50),\n",
       " ('liberale', 47),\n",
       " ('H.', 42),\n",
       " ('Belgische', 41),\n",
       " ('liberalen', 33),\n",
       " ('franken', 30),\n",
       " ('Russische', 28),\n",
       " ('nederlandsche', 25),\n",
       " ('Indische', 25)]"
      ]
     },
     "execution_count": 156,
     "metadata": {},
     "output_type": "execute_result"
    }
   ],
   "source": [
    "Counter(trein_reg_gpe).most_common(10)"
   ]
  },
  {
   "cell_type": "code",
   "execution_count": 254,
   "id": "6b67f0fe",
   "metadata": {},
   "outputs": [],
   "source": [
    "trein_nouns = []\n",
    "\n",
    "for index, row in trein.iterrows():\n",
    "    doc = row['doc']\n",
    "    for token in doc:\n",
    "        if token.pos_ == 'NOUN':\n",
    "            #print(token.pos_)\n",
    "            trein_nouns.append(str(token))"
   ]
  },
  {
   "cell_type": "code",
   "execution_count": 256,
   "id": "d7bff01a",
   "metadata": {},
   "outputs": [],
   "source": [
    "fiets_nouns = []\n",
    "\n",
    "for index, row in fiets.iterrows():\n",
    "    doc = row['doc']\n",
    "    for token in doc:\n",
    "        if token.pos_ == 'NOUN':\n",
    "            #print(token.pos_)\n",
    "            fiets_nouns.append(str(token))"
   ]
  },
  {
   "cell_type": "code",
   "execution_count": 262,
   "id": "be67dcd5",
   "metadata": {},
   "outputs": [
    {
     "data": {
      "text/plain": [
       "[('heer', 132),\n",
       " ('tijd', 78),\n",
       " ('plaats', 59),\n",
       " ('zoo', 56),\n",
       " ('tusschen', 52),\n",
       " ('dagen', 48),\n",
       " ('uur', 39),\n",
       " ('jaar', 38),\n",
       " ('man', 38),\n",
       " ('wijze', 38),\n",
       " ('jaren', 38),\n",
       " ('dag', 36),\n",
       " ('vélocipède', 33),\n",
       " ('weder', 33),\n",
       " ('”', 31),\n",
       " ('zaak', 30),\n",
       " ('petroleum', 28),\n",
       " ('personen', 27),\n",
       " ('water', 26),\n",
       " ('vergadering', 26),\n",
       " ('gelegenheid', 25),\n",
       " ('voeten', 23),\n",
       " ('hand', 23),\n",
       " ('gebruik', 23),\n",
       " ('beweging', 22),\n",
       " ('politie', 22),\n",
       " ('stad', 22),\n",
       " ('uren', 22),\n",
       " ('huis', 21),\n",
       " ('paar', 21)]"
      ]
     },
     "execution_count": 262,
     "metadata": {},
     "output_type": "execute_result"
    }
   ],
   "source": [
    "result = Counter(fiets_nouns).most_common(30)\n",
    "result"
   ]
  },
  {
   "cell_type": "code",
   "execution_count": 261,
   "id": "cb1f2bb6",
   "metadata": {},
   "outputs": [
    {
     "data": {
      "text/plain": [
       "[('heer', 6394),\n",
       " ('plaats', 4787),\n",
       " ('trein', 4470),\n",
       " ('zoo', 3990),\n",
       " ('tusschen', 2935),\n",
       " ('”', 2845),\n",
       " ('tijd', 2844),\n",
       " ('dagen', 2500),\n",
       " ('jaar', 2494),\n",
       " ('station', 2430),\n",
       " ('uur', 2291),\n",
       " ('man', 2066),\n",
       " ('weder', 2032),\n",
       " ('dag', 1985),\n",
       " ('dienst', 1904),\n",
       " ('jaren', 1903),\n",
       " ('wijze', 1792),\n",
       " ('zaak', 1688),\n",
       " ('personen', 1604),\n",
       " ('einde', 1571),\n",
       " ('aantal', 1565),\n",
       " ('leden', 1550),\n",
       " ('brug', 1530),\n",
       " ('gedeelte', 1515),\n",
       " ('gebruik', 1513),\n",
       " ('water', 1471),\n",
       " ('weg', 1470),\n",
       " ('gelegenheid', 1436),\n",
       " ('stad', 1380),\n",
       " ('aanleiding', 1357)]"
      ]
     },
     "execution_count": 261,
     "metadata": {},
     "output_type": "execute_result"
    }
   ],
   "source": [
    "result = Counter(trein_nouns).most_common(30)\n",
    "result"
   ]
  },
  {
   "cell_type": "code",
   "execution_count": 263,
   "id": "f734868a",
   "metadata": {},
   "outputs": [],
   "source": [
    "trein_nouns = []\n",
    "\n",
    "for index, row in trein.iterrows():\n",
    "    doc = row['doc']\n",
    "    for token in doc:\n",
    "        if token.pos_ == 'VERB':\n",
    "            #print(token.pos_)\n",
    "            trein_nouns.append(str(token))"
   ]
  },
  {
   "cell_type": "code",
   "execution_count": 264,
   "id": "c849fcc1",
   "metadata": {},
   "outputs": [],
   "source": [
    "fiets_nouns = []\n",
    "\n",
    "for index, row in fiets.iterrows():\n",
    "    doc = row['doc']\n",
    "    for token in doc:\n",
    "        if token.pos_ == 'VERB':\n",
    "            #print(token.pos_)\n",
    "            fiets_nouns.append(str(token))"
   ]
  },
  {
   "cell_type": "code",
   "execution_count": 267,
   "id": "8301bf94",
   "metadata": {},
   "outputs": [
    {
     "data": {
      "text/plain": [
       "[('doen', 54),\n",
       " ('maken', 50),\n",
       " ('heeft', 49),\n",
       " ('hebben', 48),\n",
       " ('inde', 47),\n",
       " ('gemaakt', 44),\n",
       " ('zien', 40),\n",
       " ('komen', 39),\n",
       " ('geven', 36),\n",
       " ('genomen', 35),\n",
       " ('brengen', 31),\n",
       " ('gaan', 29),\n",
       " ('laten', 29),\n",
       " ('gebracht', 29),\n",
       " ('gedaan', 29),\n",
       " ('had', 29),\n",
       " ('gegeven', 28),\n",
       " ('nemen', 27),\n",
       " ('voorzien', 25),\n",
       " ('volgende', 25),\n",
       " ('zijn', 23),\n",
       " ('gesteld', 23),\n",
       " ('gehad', 23),\n",
       " ('komt', 21),\n",
       " ('willen', 21),\n",
       " ('schijnt', 20),\n",
       " ('bestaat', 20),\n",
       " ('bewogen', 19),\n",
       " ('inden', 19),\n",
       " ('deed', 19)]"
      ]
     },
     "execution_count": 267,
     "metadata": {},
     "output_type": "execute_result"
    }
   ],
   "source": [
    "result = Counter(fiets_nouns).most_common(30)\n",
    "result"
   ]
  },
  {
   "cell_type": "code",
   "execution_count": 268,
   "id": "95f4fcdc",
   "metadata": {},
   "outputs": [
    {
     "data": {
      "text/plain": [
       "[('doen', 3794),\n",
       " ('inde', 3648),\n",
       " ('maken', 2694),\n",
       " ('hebben', 2398),\n",
       " ('had', 2347),\n",
       " ('heeft', 2248),\n",
       " ('gemaakt', 2225),\n",
       " ('komen', 2111),\n",
       " ('gegeven', 2060),\n",
       " ('kwam', 1971),\n",
       " ('genomen', 1957),\n",
       " ('geven', 1931),\n",
       " ('nemen', 1923),\n",
       " ('brengen', 1847),\n",
       " ('gaan', 1646),\n",
       " ('zien', 1615),\n",
       " ('volgende', 1600),\n",
       " ('gebracht', 1515),\n",
       " ('gehouden', 1478),\n",
       " ('gedaan', 1423),\n",
       " ('laten', 1366),\n",
       " ('gesteld', 1356),\n",
       " ('voorzien', 1315),\n",
       " ('ontvangen', 1286),\n",
       " ('liet', 1258),\n",
       " ('houden', 1228),\n",
       " ('gehad', 1179),\n",
       " ('stellen', 1151),\n",
       " ('gaf', 1139),\n",
       " ('komt', 1114)]"
      ]
     },
     "execution_count": 268,
     "metadata": {},
     "output_type": "execute_result"
    }
   ],
   "source": [
    "result = Counter(trein_nouns).most_common(30)\n",
    "result"
   ]
  },
  {
   "cell_type": "code",
   "execution_count": 33,
   "id": "a5c6be53",
   "metadata": {},
   "outputs": [
    {
     "ename": "NameError",
     "evalue": "name 'fiets_nouns' is not defined",
     "output_type": "error",
     "traceback": [
      "\u001b[1;31m---------------------------------------------------------------------------\u001b[0m",
      "\u001b[1;31mNameError\u001b[0m                                 Traceback (most recent call last)",
      "Input \u001b[1;32mIn [33]\u001b[0m, in \u001b[0;36m<cell line: 1>\u001b[1;34m()\u001b[0m\n\u001b[1;32m----> 1\u001b[0m Counter(\u001b[43mfiets_nouns\u001b[49m)\u001b[38;5;241m.\u001b[39mkeys() \u001b[38;5;66;03m# equals to list(set(words))\u001b[39;00m\n\u001b[0;32m      2\u001b[0m Counter(fiets_nouns)\u001b[38;5;241m.\u001b[39mvalues() \u001b[38;5;66;03m# counts the elements' frequency\u001b[39;00m\n\u001b[0;32m      3\u001b[0m fiets_dict \u001b[38;5;241m=\u001b[39m \u001b[38;5;28mdict\u001b[39m(Counter(fiets_gpe))\n",
      "\u001b[1;31mNameError\u001b[0m: name 'fiets_nouns' is not defined"
     ]
    }
   ],
   "source": [
    "Counter(fiets_nouns).keys() # equals to list(set(words))\n",
    "Counter(fiets_nouns).values() # counts the elements' frequency\n",
    "fiets_dict = dict(Counter(fiets_gpe))"
   ]
  },
  {
   "cell_type": "code",
   "execution_count": null,
   "id": "7efa9118",
   "metadata": {},
   "outputs": [],
   "source": []
  }
 ],
 "metadata": {
  "kernelspec": {
   "display_name": "Python 3 (ipykernel)",
   "language": "python",
   "name": "python3"
  },
  "language_info": {
   "codemirror_mode": {
    "name": "ipython",
    "version": 3
   },
   "file_extension": ".py",
   "mimetype": "text/x-python",
   "name": "python",
   "nbconvert_exporter": "python",
   "pygments_lexer": "ipython3",
   "version": "3.9.12"
  }
 },
 "nbformat": 4,
 "nbformat_minor": 5
}
