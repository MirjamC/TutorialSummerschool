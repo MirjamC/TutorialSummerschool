{
 "cells": [
  {
   "cell_type": "markdown",
   "id": "6ee1a656",
   "metadata": {},
   "source": [
    "# Data filtering"
   ]
  },
  {
   "cell_type": "markdown",
   "id": "957d921f",
   "metadata": {},
   "source": [
    "Gebaseerd op de data exploratie van het vorige Notebook kunnen we nu een selectie maken voor verder onderzoek. \n",
    "\n",
    "Gezien de beperkte grootte van Binder richten we ons op een vergelijking tussen artikelen over fietsen in regionale en landelijke dagbladen. \n",
    "\n",
    "De eerst stap is het importeren van de benodigde package:"
   ]
  },
  {
   "cell_type": "code",
   "execution_count": 1,
   "id": "530a5ec2",
   "metadata": {},
   "outputs": [],
   "source": [
    "import pandas as pd"
   ]
  },
  {
   "cell_type": "markdown",
   "id": "ce270078",
   "metadata": {},
   "source": [
    "Daarna laden we het dataframe"
   ]
  },
  {
   "cell_type": "code",
   "execution_count": 3,
   "id": "ac5dd457",
   "metadata": {},
   "outputs": [],
   "source": [
    "data = pd.read_csv('data/data3.csv')"
   ]
  },
  {
   "cell_type": "markdown",
   "id": "d17f7b4c",
   "metadata": {},
   "source": [
    "Vervolgens willen we dit dataframe filteren zodat we alleen artikelen in met de categorie fiets en het type artikel overhouden. "
   ]
  },
  {
   "cell_type": "code",
   "execution_count": 4,
   "id": "27a278d8",
   "metadata": {},
   "outputs": [],
   "source": [
    "fiets_df = data[data['category'] == 'fiets']"
   ]
  },
  {
   "cell_type": "code",
   "execution_count": 9,
   "id": "5d878c71",
   "metadata": {},
   "outputs": [],
   "source": [
    "## zelf doen\n",
    "## Tip: let erop dat je hier niet zoals hierboven het dataframe met de naam 'data' aanroept maar het frame fiets_df\n",
    "fiets_df = fiets_df[fiets_df['type'] == 'artikel']"
   ]
  },
  {
   "cell_type": "markdown",
   "id": "161a38a7",
   "metadata": {},
   "source": [
    "Als het goed is gegaan heeft je dataframe nu 677 rijen. Dit kun je testen door len(fiets_df)"
   ]
  },
  {
   "cell_type": "markdown",
   "id": "1afc6dbd",
   "metadata": {},
   "source": [
    "Aangezien we in het volgende dataframe tekstuele analyses willen doen, willen we niet dat de kwaliteit van de tekst te slecht is. Daarom filteren we alle artikelen eruit met een score lager dan 70%. "
   ]
  },
  {
   "cell_type": "code",
   "execution_count": 11,
   "id": "2cc177d5",
   "metadata": {},
   "outputs": [],
   "source": [
    "fiets_df = fiets_df[fiets_df['DL score'] >70]"
   ]
  },
  {
   "cell_type": "markdown",
   "id": "192d4560",
   "metadata": {},
   "source": [
    "En we slaan deze set op voor verder gebruik"
   ]
  },
  {
   "cell_type": "code",
   "execution_count": 12,
   "id": "c974425b",
   "metadata": {},
   "outputs": [],
   "source": [
    "fiets_df.to_csv('data/fiets.csv')"
   ]
  },
  {
   "cell_type": "code",
   "execution_count": null,
   "id": "dadc6459",
   "metadata": {},
   "outputs": [],
   "source": []
  }
 ],
 "metadata": {
  "kernelspec": {
   "display_name": "Python 3 (ipykernel)",
   "language": "python",
   "name": "python3"
  },
  "language_info": {
   "codemirror_mode": {
    "name": "ipython",
    "version": 3
   },
   "file_extension": ".py",
   "mimetype": "text/x-python",
   "name": "python",
   "nbconvert_exporter": "python",
   "pygments_lexer": "ipython3",
   "version": "3.9.12"
  }
 },
 "nbformat": 4,
 "nbformat_minor": 5
}
