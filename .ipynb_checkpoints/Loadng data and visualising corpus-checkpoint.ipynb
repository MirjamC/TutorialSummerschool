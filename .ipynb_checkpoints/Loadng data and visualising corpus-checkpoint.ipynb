{
 "cells": [
  {
   "cell_type": "markdown",
   "id": "ed0f0875",
   "metadata": {},
   "source": [
    "# Loading data and visualising corpus"
   ]
  },
  {
   "cell_type": "markdown",
   "id": "11c08018",
   "metadata": {},
   "source": [
    "## Import packages"
   ]
  },
  {
   "cell_type": "code",
   "execution_count": 3,
   "id": "be36f5b4",
   "metadata": {},
   "outputs": [],
   "source": [
    "import pandas as pd"
   ]
  },
  {
   "cell_type": "markdown",
   "id": "48f956d6",
   "metadata": {},
   "source": [
    "## Load data"
   ]
  },
  {
   "cell_type": "code",
   "execution_count": 9,
   "id": "48daf4aa",
   "metadata": {},
   "outputs": [],
   "source": [
    "vaderland = pd.read_csv(\"data/HetVaderland_1873.csv\", index_col = 0)"
   ]
  },
  {
   "cell_type": "code",
   "execution_count": 11,
   "id": "48c4532f",
   "metadata": {},
   "outputs": [],
   "source": [
    "standaard = pd.read_csv(\"data/DeStandaard_1873.csv\", index_col = 0)"
   ]
  },
  {
   "cell_type": "code",
   "execution_count": 13,
   "id": "73061ac8",
   "metadata": {},
   "outputs": [
    {
     "data": {
      "text/html": [
       "<div>\n",
       "<style scoped>\n",
       "    .dataframe tbody tr th:only-of-type {\n",
       "        vertical-align: middle;\n",
       "    }\n",
       "\n",
       "    .dataframe tbody tr th {\n",
       "        vertical-align: top;\n",
       "    }\n",
       "\n",
       "    .dataframe thead th {\n",
       "        text-align: right;\n",
       "    }\n",
       "</style>\n",
       "<table border=\"1\" class=\"dataframe\">\n",
       "  <thead>\n",
       "    <tr style=\"text-align: right;\">\n",
       "      <th></th>\n",
       "      <th>identifier</th>\n",
       "      <th>oaiIdentifier</th>\n",
       "      <th>type</th>\n",
       "      <th>title</th>\n",
       "      <th>date</th>\n",
       "      <th>content</th>\n",
       "      <th>krantnaam</th>\n",
       "      <th>verspreidingsgebied</th>\n",
       "    </tr>\n",
       "  </thead>\n",
       "  <tbody>\n",
       "    <tr>\n",
       "      <th>0</th>\n",
       "      <td>http://resolver.kb.nl/resolve?urn=MMKB23:00139...</td>\n",
       "      <td>KRANTEN:MMKB23:MMKB23:001396098:mpeg21</td>\n",
       "      <td>artikel</td>\n",
       "      <td>Ontwerp van wet tot wijziging der wetten betre...</td>\n",
       "      <td>1873/04/25 00:00:00</td>\n",
       "      <td>’s Graven hage, 24 April.! m- Om de re^e&amp;eu, i...</td>\n",
       "      <td>Het vaderland : staat- en letterkundig nieuwsblad</td>\n",
       "      <td>Landelijk</td>\n",
       "    </tr>\n",
       "    <tr>\n",
       "      <th>1</th>\n",
       "      <td>http://resolver.kb.nl/resolve?urn=MMKB23:00139...</td>\n",
       "      <td>KRANTEN:MMKB23:MMKB23:001396098:mpeg21</td>\n",
       "      <td>artikel</td>\n",
       "      <td>De strijd tegen den Nederlandschen Sigarenmake...</td>\n",
       "      <td>1873/04/25 00:00:00</td>\n",
       "      <td>11. De positie der sigarenmakers in Nederland ...</td>\n",
       "      <td>Het vaderland : staat- en letterkundig nieuwsblad</td>\n",
       "      <td>Landelijk</td>\n",
       "    </tr>\n",
       "  </tbody>\n",
       "</table>\n",
       "</div>"
      ],
      "text/plain": [
       "                                          identifier  \\\n",
       "0  http://resolver.kb.nl/resolve?urn=MMKB23:00139...   \n",
       "1  http://resolver.kb.nl/resolve?urn=MMKB23:00139...   \n",
       "\n",
       "                            oaiIdentifier     type  \\\n",
       "0  KRANTEN:MMKB23:MMKB23:001396098:mpeg21  artikel   \n",
       "1  KRANTEN:MMKB23:MMKB23:001396098:mpeg21  artikel   \n",
       "\n",
       "                                               title                 date  \\\n",
       "0  Ontwerp van wet tot wijziging der wetten betre...  1873/04/25 00:00:00   \n",
       "1  De strijd tegen den Nederlandschen Sigarenmake...  1873/04/25 00:00:00   \n",
       "\n",
       "                                             content  \\\n",
       "0  ’s Graven hage, 24 April.! m- Om de re^e&eu, i...   \n",
       "1  11. De positie der sigarenmakers in Nederland ...   \n",
       "\n",
       "                                           krantnaam verspreidingsgebied  \n",
       "0  Het vaderland : staat- en letterkundig nieuwsblad           Landelijk  \n",
       "1  Het vaderland : staat- en letterkundig nieuwsblad           Landelijk  "
      ]
     },
     "execution_count": 13,
     "metadata": {},
     "output_type": "execute_result"
    }
   ],
   "source": [
    "vaderland.head(2)"
   ]
  },
  {
   "cell_type": "code",
   "execution_count": 14,
   "id": "1dfbf13e",
   "metadata": {},
   "outputs": [
    {
     "data": {
      "text/html": [
       "<div>\n",
       "<style scoped>\n",
       "    .dataframe tbody tr th:only-of-type {\n",
       "        vertical-align: middle;\n",
       "    }\n",
       "\n",
       "    .dataframe tbody tr th {\n",
       "        vertical-align: top;\n",
       "    }\n",
       "\n",
       "    .dataframe thead th {\n",
       "        text-align: right;\n",
       "    }\n",
       "</style>\n",
       "<table border=\"1\" class=\"dataframe\">\n",
       "  <thead>\n",
       "    <tr style=\"text-align: right;\">\n",
       "      <th></th>\n",
       "      <th>identifier</th>\n",
       "      <th>oaiIdentifier</th>\n",
       "      <th>type</th>\n",
       "      <th>title</th>\n",
       "      <th>date</th>\n",
       "      <th>content</th>\n",
       "      <th>krantnaam</th>\n",
       "      <th>verspreidingsgebied</th>\n",
       "    </tr>\n",
       "  </thead>\n",
       "  <tbody>\n",
       "    <tr>\n",
       "      <th>0</th>\n",
       "      <td>http://resolver.kb.nl/resolve?urn=ddd:01106545...</td>\n",
       "      <td>DDD:ddd:011065451:mpeg21</td>\n",
       "      <td>artikel</td>\n",
       "      <td>Algemeen Overzicht.</td>\n",
       "      <td>1873/01/02 00:00:00</td>\n",
       "      <td>Hot gunstig oordeel dat do meeste buitenlandsc...</td>\n",
       "      <td>De standaard</td>\n",
       "      <td>Landelijk</td>\n",
       "    </tr>\n",
       "    <tr>\n",
       "      <th>1</th>\n",
       "      <td>http://resolver.kb.nl/resolve?urn=ddd:01106545...</td>\n",
       "      <td>DDD:ddd:011065451:mpeg21</td>\n",
       "      <td>artikel</td>\n",
       "      <td>FEUILLETON. „Vassar College.”</td>\n",
       "      <td>1873/01/02 00:00:00</td>\n",
       "      <td>Wie gaarno de hand in brandnetels of wespennes...</td>\n",
       "      <td>De standaard</td>\n",
       "      <td>Landelijk</td>\n",
       "    </tr>\n",
       "  </tbody>\n",
       "</table>\n",
       "</div>"
      ],
      "text/plain": [
       "                                          identifier  \\\n",
       "0  http://resolver.kb.nl/resolve?urn=ddd:01106545...   \n",
       "1  http://resolver.kb.nl/resolve?urn=ddd:01106545...   \n",
       "\n",
       "              oaiIdentifier     type                          title  \\\n",
       "0  DDD:ddd:011065451:mpeg21  artikel            Algemeen Overzicht.   \n",
       "1  DDD:ddd:011065451:mpeg21  artikel  FEUILLETON. „Vassar College.”   \n",
       "\n",
       "                  date                                            content  \\\n",
       "0  1873/01/02 00:00:00  Hot gunstig oordeel dat do meeste buitenlandsc...   \n",
       "1  1873/01/02 00:00:00  Wie gaarno de hand in brandnetels of wespennes...   \n",
       "\n",
       "      krantnaam verspreidingsgebied  \n",
       "0  De standaard           Landelijk  \n",
       "1  De standaard           Landelijk  "
      ]
     },
     "execution_count": 14,
     "metadata": {},
     "output_type": "execute_result"
    }
   ],
   "source": [
    "standaard.head(2)"
   ]
  },
  {
   "cell_type": "markdown",
   "id": "063087ff",
   "metadata": {},
   "source": [
    "## Combine the datasets"
   ]
  },
  {
   "cell_type": "code",
   "execution_count": 43,
   "id": "f466d689",
   "metadata": {},
   "outputs": [],
   "source": [
    "data = pd.concat([vaderland, standaard])"
   ]
  },
  {
   "cell_type": "markdown",
   "id": "33bc15dc",
   "metadata": {},
   "source": [
    "## Add month and day to dataset"
   ]
  },
  {
   "cell_type": "code",
   "execution_count": 44,
   "id": "c3e55842",
   "metadata": {},
   "outputs": [],
   "source": [
    "data[\"date\"] = pd.to_datetime(data[\"date\"])"
   ]
  },
  {
   "cell_type": "code",
   "execution_count": 45,
   "id": "5b23a309",
   "metadata": {},
   "outputs": [],
   "source": [
    "data['month'] = data['date'].dt.strftime(\"%B\")\n",
    "data['day'] = data['date'].dt.strftime(\"%A\")"
   ]
  },
  {
   "cell_type": "code",
   "execution_count": 46,
   "id": "6abe3d40",
   "metadata": {},
   "outputs": [
    {
     "data": {
      "text/html": [
       "<div>\n",
       "<style scoped>\n",
       "    .dataframe tbody tr th:only-of-type {\n",
       "        vertical-align: middle;\n",
       "    }\n",
       "\n",
       "    .dataframe tbody tr th {\n",
       "        vertical-align: top;\n",
       "    }\n",
       "\n",
       "    .dataframe thead th {\n",
       "        text-align: right;\n",
       "    }\n",
       "</style>\n",
       "<table border=\"1\" class=\"dataframe\">\n",
       "  <thead>\n",
       "    <tr style=\"text-align: right;\">\n",
       "      <th></th>\n",
       "      <th>identifier</th>\n",
       "      <th>oaiIdentifier</th>\n",
       "      <th>type</th>\n",
       "      <th>title</th>\n",
       "      <th>date</th>\n",
       "      <th>content</th>\n",
       "      <th>krantnaam</th>\n",
       "      <th>verspreidingsgebied</th>\n",
       "      <th>month</th>\n",
       "      <th>day</th>\n",
       "    </tr>\n",
       "  </thead>\n",
       "  <tbody>\n",
       "    <tr>\n",
       "      <th>0</th>\n",
       "      <td>http://resolver.kb.nl/resolve?urn=MMKB23:00139...</td>\n",
       "      <td>KRANTEN:MMKB23:MMKB23:001396098:mpeg21</td>\n",
       "      <td>artikel</td>\n",
       "      <td>Ontwerp van wet tot wijziging der wetten betre...</td>\n",
       "      <td>1873-04-25</td>\n",
       "      <td>’s Graven hage, 24 April.! m- Om de re^e&amp;eu, i...</td>\n",
       "      <td>Het vaderland : staat- en letterkundig nieuwsblad</td>\n",
       "      <td>Landelijk</td>\n",
       "      <td>April</td>\n",
       "      <td>Friday</td>\n",
       "    </tr>\n",
       "    <tr>\n",
       "      <th>1</th>\n",
       "      <td>http://resolver.kb.nl/resolve?urn=MMKB23:00139...</td>\n",
       "      <td>KRANTEN:MMKB23:MMKB23:001396098:mpeg21</td>\n",
       "      <td>artikel</td>\n",
       "      <td>De strijd tegen den Nederlandschen Sigarenmake...</td>\n",
       "      <td>1873-04-25</td>\n",
       "      <td>11. De positie der sigarenmakers in Nederland ...</td>\n",
       "      <td>Het vaderland : staat- en letterkundig nieuwsblad</td>\n",
       "      <td>Landelijk</td>\n",
       "      <td>April</td>\n",
       "      <td>Friday</td>\n",
       "    </tr>\n",
       "  </tbody>\n",
       "</table>\n",
       "</div>"
      ],
      "text/plain": [
       "                                          identifier  \\\n",
       "0  http://resolver.kb.nl/resolve?urn=MMKB23:00139...   \n",
       "1  http://resolver.kb.nl/resolve?urn=MMKB23:00139...   \n",
       "\n",
       "                            oaiIdentifier     type  \\\n",
       "0  KRANTEN:MMKB23:MMKB23:001396098:mpeg21  artikel   \n",
       "1  KRANTEN:MMKB23:MMKB23:001396098:mpeg21  artikel   \n",
       "\n",
       "                                               title       date  \\\n",
       "0  Ontwerp van wet tot wijziging der wetten betre... 1873-04-25   \n",
       "1  De strijd tegen den Nederlandschen Sigarenmake... 1873-04-25   \n",
       "\n",
       "                                             content  \\\n",
       "0  ’s Graven hage, 24 April.! m- Om de re^e&eu, i...   \n",
       "1  11. De positie der sigarenmakers in Nederland ...   \n",
       "\n",
       "                                           krantnaam verspreidingsgebied  \\\n",
       "0  Het vaderland : staat- en letterkundig nieuwsblad           Landelijk   \n",
       "1  Het vaderland : staat- en letterkundig nieuwsblad           Landelijk   \n",
       "\n",
       "   month     day  \n",
       "0  April  Friday  \n",
       "1  April  Friday  "
      ]
     },
     "execution_count": 46,
     "metadata": {},
     "output_type": "execute_result"
    }
   ],
   "source": [
    "data.head(2)"
   ]
  },
  {
   "cell_type": "markdown",
   "id": "7e224e0b",
   "metadata": {},
   "source": [
    "## Visualise the data"
   ]
  },
  {
   "cell_type": "markdown",
   "id": "e250c9b1",
   "metadata": {},
   "source": [
    "### Unique number of newspapers"
   ]
  },
  {
   "cell_type": "code",
   "execution_count": 61,
   "id": "159b2c11",
   "metadata": {},
   "outputs": [
    {
     "data": {
      "text/plain": [
       "<AxesSubplot:title={'center':'Number of newspapers'}, ylabel='krantnaam'>"
      ]
     },
     "execution_count": 61,
     "metadata": {},
     "output_type": "execute_result"
    },
    {
     "data": {
      "image/png": "[encoded data removed]",
      "text/plain": [
       "<Figure size 432x288 with 1 Axes>"
      ]
     },
     "metadata": {
      "needs_background": "light"
     },
     "output_type": "display_data"
    }
   ],
   "source": [
    "data.groupby('krantnaam')['oaiIdentifier'].nunique().plot(kind = 'barh', title = \"Number of newspapers\")"
   ]
  },
  {
   "cell_type": "markdown",
   "id": "931a4265",
   "metadata": {},
   "source": [
    "### Number of articles per newspaper"
   ]
  },
  {
   "cell_type": "code",
   "execution_count": 62,
   "id": "842ba34b",
   "metadata": {},
   "outputs": [
    {
     "data": {
      "text/plain": [
       "<AxesSubplot:title={'center':'Number of articles'}, ylabel='krantnaam'>"
      ]
     },
     "execution_count": 62,
     "metadata": {},
     "output_type": "execute_result"
    },
    {
     "data": {
      "image/png": "[encoded data removed]",
      "text/plain": [
       "<Figure size 432x288 with 1 Axes>"
      ]
     },
     "metadata": {
      "needs_background": "light"
     },
     "output_type": "display_data"
    }
   ],
   "source": [
    "data.groupby('krantnaam')['identifier'].nunique().plot(kind = 'barh', title = \"Number of articles\")"
   ]
  },
  {
   "cell_type": "markdown",
   "id": "1ef1032b",
   "metadata": {},
   "source": [
    "### Numbers of unique newspapers per month"
   ]
  },
  {
   "cell_type": "code",
   "execution_count": null,
   "id": "d56de4bb",
   "metadata": {},
   "outputs": [],
   "source": []
  },
  {
   "cell_type": "markdown",
   "id": "55050bd4",
   "metadata": {},
   "source": [
    "### Days on which the newspaper where published"
   ]
  },
  {
   "cell_type": "code",
   "execution_count": null,
   "id": "74da7d07",
   "metadata": {},
   "outputs": [],
   "source": []
  },
  {
   "cell_type": "markdown",
   "id": "debf5e76",
   "metadata": {},
   "source": [
    "### Average OCR quality??\n",
    "\n",
    "(Misschien kunnen we van tevoren een basisc woordenboek lookup doen en dat hier plotten??).\n",
    "In het kader van bronnenkritiek en omdat het oude kranten zijn.\n",
    "\n",
    "En dan misschien ook iets visualiseren van als je alleen artikelen met een kwaliteit van 80% of hoger hebt hoeveel van je corpus je dan overhoudt?"
   ]
  },
  {
   "cell_type": "code",
   "execution_count": null,
   "id": "fd5be3c9",
   "metadata": {},
   "outputs": [],
   "source": []
  }
 ],
 "metadata": {
  "kernelspec": {
   "display_name": "Python 3 (ipykernel)",
   "language": "python",
   "name": "python3"
  },
  "language_info": {
   "codemirror_mode": {
    "name": "ipython",
    "version": 3
   },
   "file_extension": ".py",
   "mimetype": "text/x-python",
   "name": "python",
   "nbconvert_exporter": "python",
   "pygments_lexer": "ipython3",
   "version": "3.9.12"
  }
 },
 "nbformat": 4,
 "nbformat_minor": 5
}
