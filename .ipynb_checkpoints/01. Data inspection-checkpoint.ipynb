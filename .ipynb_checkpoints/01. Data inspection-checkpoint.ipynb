{
 "cells": [
  {
   "cell_type": "markdown",
   "id": "df12894b",
   "metadata": {},
   "source": [
    "# Data inspection"
   ]
  },
  {
   "cell_type": "markdown",
   "id": "7c3701cd",
   "metadata": {},
   "source": [
    "Import the necessay packages "
   ]
  },
  {
   "cell_type": "code",
   "execution_count": 83,
   "id": "297def46",
   "metadata": {},
   "outputs": [],
   "source": [
    "import pandas as pd"
   ]
  },
  {
   "cell_type": "markdown",
   "id": "118c41a5",
   "metadata": {},
   "source": [
    "Load the data with the Pandas package. "
   ]
  },
  {
   "cell_type": "code",
   "execution_count": 100,
   "id": "c10908d3",
   "metadata": {},
   "outputs": [],
   "source": [
    "data = pd.read_csv('data/data.csv', index_col = 0)"
   ]
  },
  {
   "cell_type": "markdown",
   "id": "2c325e8d",
   "metadata": {},
   "source": [
    "To get a first impression of the data, we display the first 4 columns using the head() function. "
   ]
  },
  {
   "cell_type": "code",
   "execution_count": 101,
   "id": "036e21b4",
   "metadata": {},
   "outputs": [
    {
     "data": {
      "text/html": [
       "<div>\n",
       "<style scoped>\n",
       "    .dataframe tbody tr th:only-of-type {\n",
       "        vertical-align: middle;\n",
       "    }\n",
       "\n",
       "    .dataframe tbody tr th {\n",
       "        vertical-align: top;\n",
       "    }\n",
       "\n",
       "    .dataframe thead th {\n",
       "        text-align: right;\n",
       "    }\n",
       "</style>\n",
       "<table border=\"1\" class=\"dataframe\">\n",
       "  <thead>\n",
       "    <tr style=\"text-align: right;\">\n",
       "      <th></th>\n",
       "      <th>identifier</th>\n",
       "      <th>type</th>\n",
       "      <th>title</th>\n",
       "      <th>date</th>\n",
       "      <th>content</th>\n",
       "      <th>subcategory</th>\n",
       "      <th>category</th>\n",
       "      <th>Year</th>\n",
       "      <th>DL score</th>\n",
       "      <th>spatial</th>\n",
       "    </tr>\n",
       "  </thead>\n",
       "  <tbody>\n",
       "    <tr>\n",
       "      <th>13</th>\n",
       "      <td>http://resolver.kb.nl/resolve?urn=ddd:01010307...</td>\n",
       "      <td>artikel</td>\n",
       "      <td>REGELING VAN OEN ZOMERDIENST.</td>\n",
       "      <td>1877/06/21 00:00:00</td>\n",
       "      <td>JNaar aanleiding ran het in ons nommer van 29 ...</td>\n",
       "      <td>trein</td>\n",
       "      <td>trien</td>\n",
       "      <td>1877</td>\n",
       "      <td>72.819315</td>\n",
       "      <td>Landelijk</td>\n",
       "    </tr>\n",
       "    <tr>\n",
       "      <th>24</th>\n",
       "      <td>http://resolver.kb.nl/resolve?urn=ddd:01106750...</td>\n",
       "      <td>artikel</td>\n",
       "      <td>Bij de aanstaande winterdienstregeling</td>\n",
       "      <td>1880/09/15 00:00:00</td>\n",
       "      <td>Bij de aanstaande winterdienstregeling op de S...</td>\n",
       "      <td>trein</td>\n",
       "      <td>trein</td>\n",
       "      <td>1880</td>\n",
       "      <td>72.188139</td>\n",
       "      <td>Landelijk</td>\n",
       "    </tr>\n",
       "    <tr>\n",
       "      <th>25</th>\n",
       "      <td>http://resolver.kb.nl/resolve?urn=MMKB23:00142...</td>\n",
       "      <td>advertentie</td>\n",
       "      <td>Advertentie</td>\n",
       "      <td>1883/06/23 00:00:00</td>\n",
       "      <td>W.H.C.DEBOCK, Piet Heinstraat, 43. (6108) BADG...</td>\n",
       "      <td>trein</td>\n",
       "      <td>trein</td>\n",
       "      <td>1883</td>\n",
       "      <td>45.115453</td>\n",
       "      <td>Landelijk</td>\n",
       "    </tr>\n",
       "    <tr>\n",
       "      <th>52</th>\n",
       "      <td>http://resolver.kb.nl/resolve?urn=ddd:01106783...</td>\n",
       "      <td>artikel</td>\n",
       "      <td>In ons artikel: „Waar schuilt het euvel?”</td>\n",
       "      <td>1881/10/25 00:00:00</td>\n",
       "      <td>In ons artikel: „Waar schuilt het euvel?” (13 ...</td>\n",
       "      <td>trein</td>\n",
       "      <td>trein</td>\n",
       "      <td>1881</td>\n",
       "      <td>74.074074</td>\n",
       "      <td>Landelijk</td>\n",
       "    </tr>\n",
       "  </tbody>\n",
       "</table>\n",
       "</div>"
      ],
      "text/plain": [
       "                                           identifier         type  \\\n",
       "13  http://resolver.kb.nl/resolve?urn=ddd:01010307...      artikel   \n",
       "24  http://resolver.kb.nl/resolve?urn=ddd:01106750...      artikel   \n",
       "25  http://resolver.kb.nl/resolve?urn=MMKB23:00142...  advertentie   \n",
       "52  http://resolver.kb.nl/resolve?urn=ddd:01106783...      artikel   \n",
       "\n",
       "                                        title                 date  \\\n",
       "13              REGELING VAN OEN ZOMERDIENST.  1877/06/21 00:00:00   \n",
       "24     Bij de aanstaande winterdienstregeling  1880/09/15 00:00:00   \n",
       "25                                Advertentie  1883/06/23 00:00:00   \n",
       "52  In ons artikel: „Waar schuilt het euvel?”  1881/10/25 00:00:00   \n",
       "\n",
       "                                              content subcategory category  \\\n",
       "13  JNaar aanleiding ran het in ons nommer van 29 ...       trein    trien   \n",
       "24  Bij de aanstaande winterdienstregeling op de S...       trein    trein   \n",
       "25  W.H.C.DEBOCK, Piet Heinstraat, 43. (6108) BADG...       trein    trein   \n",
       "52  In ons artikel: „Waar schuilt het euvel?” (13 ...       trein    trein   \n",
       "\n",
       "    Year   DL score    spatial  \n",
       "13  1877  72.819315  Landelijk  \n",
       "24  1880  72.188139  Landelijk  \n",
       "25  1883  45.115453  Landelijk  \n",
       "52  1881  74.074074  Landelijk  "
      ]
     },
     "execution_count": 101,
     "metadata": {},
     "output_type": "execute_result"
    }
   ],
   "source": [
    "data.head(4)"
   ]
  },
  {
   "cell_type": "markdown",
   "id": "7e6b4a55",
   "metadata": {},
   "source": [
    "The first step is to check if all the rows of the dataframe are uniques. Sometimes it happends that accidentaly rows are duplicated during data gathering, so it's good practice to perform this check before doing further analyses. \n",
    "Pandas had a function 'drop_duplicates()' that can be used to remove duplicates in your dataframe. You can use it to remove rows that are duplicate, but you can also use it for example to remove only rows with duplicate identifiers. \n",
    "\n",
    "Add this moment we are only interesting in unique rows. And I do not only want to delete duplicates, but also check it there were any duplicates.\n",
    "\n",
    "I start with counting the rows in mijn dataframe:"
   ]
  },
  {
   "cell_type": "code",
   "execution_count": 102,
   "id": "780e6c2d",
   "metadata": {},
   "outputs": [
    {
     "data": {
      "text/plain": [
       "34893"
      ]
     },
     "execution_count": 102,
     "metadata": {},
     "output_type": "execute_result"
    }
   ],
   "source": [
    "len(data)"
   ]
  },
  {
   "cell_type": "markdown",
   "id": "c2f3527e",
   "metadata": {},
   "source": [
    "Then drop_duplicates. This removes duplicates rows by keeping only one of them. "
   ]
  },
  {
   "cell_type": "code",
   "execution_count": 103,
   "id": "f5528081",
   "metadata": {},
   "outputs": [],
   "source": [
    "data = data.drop_duplicates()"
   ]
  },
  {
   "cell_type": "markdown",
   "id": "851c2314",
   "metadata": {},
   "source": [
    "And print again the length"
   ]
  },
  {
   "cell_type": "code",
   "execution_count": 104,
   "id": "5a698719",
   "metadata": {},
   "outputs": [
    {
     "data": {
      "text/plain": [
       "34881"
      ]
     },
     "execution_count": 104,
     "metadata": {},
     "output_type": "execute_result"
    }
   ],
   "source": [
    "len(data)"
   ]
  },
  {
   "cell_type": "markdown",
   "id": "9906e600",
   "metadata": {},
   "source": [
    "Now we have dropped all duplicates, we want to look at the indentifiers. We want to compare unique articels so its good to check "
   ]
  },
  {
   "cell_type": "code",
   "execution_count": 105,
   "id": "3e3d291a",
   "metadata": {},
   "outputs": [
    {
     "data": {
      "text/plain": [
       "34881"
      ]
     },
     "execution_count": 105,
     "metadata": {},
     "output_type": "execute_result"
    }
   ],
   "source": [
    "data['identifier'].nunique()"
   ]
  },
  {
   "cell_type": "markdown",
   "id": "4f7cf612",
   "metadata": {},
   "source": [
    "After this first inspection rough inspection, we want to see if the content of the columns looks plausible. For the categorial columns, we can print the unique categories that are in there, to check for any anolomies. This can be done with the unique() function. "
   ]
  },
  {
   "cell_type": "code",
   "execution_count": 106,
   "id": "d8a06260",
   "metadata": {},
   "outputs": [
    {
     "data": {
      "text/plain": [
       "array(['artikel', 'advertentie', 'familiebericht'], dtype=object)"
      ]
     },
     "execution_count": 106,
     "metadata": {},
     "output_type": "execute_result"
    }
   ],
   "source": [
    "data['type'].unique()"
   ]
  },
  {
   "cell_type": "markdown",
   "id": "5aa87c08",
   "metadata": {},
   "source": [
    "Bekijk nu zelf de unieke categorieën voor de kolommen subcategory, category and spatial. "
   ]
  },
  {
   "cell_type": "code",
   "execution_count": 107,
   "id": "e86e5531",
   "metadata": {},
   "outputs": [],
   "source": [
    "## Code for subcategory"
   ]
  },
  {
   "cell_type": "code",
   "execution_count": 113,
   "id": "7cb9f818",
   "metadata": {},
   "outputs": [
    {
     "data": {
      "text/plain": [
       "array(['trein'], dtype=object)"
      ]
     },
     "execution_count": 113,
     "metadata": {},
     "output_type": "execute_result"
    }
   ],
   "source": [
    "## Code for category\n",
    "data['category'].unique()"
   ]
  },
  {
   "cell_type": "code",
   "execution_count": 110,
   "id": "82f2e535",
   "metadata": {},
   "outputs": [],
   "source": [
    "## Code for spatial"
   ]
  },
  {
   "cell_type": "markdown",
   "id": "6cc1a1a3",
   "metadata": {},
   "source": [
    "Voor andere kolommmen, zoals data en year, kunnen we kijken naar de minimale en maximale waarde. Aan de hand daarvan kunnen we kijken of deze inderdaad kloppen met de verwachtingn van de dataset qua afbakingen. \n",
    "\n",
    "Dit kun je doen met de min() en max() functies."
   ]
  },
  {
   "cell_type": "code",
   "execution_count": 39,
   "id": "5cdbddb6",
   "metadata": {},
   "outputs": [
    {
     "data": {
      "text/plain": [
       "'1869/01/01 00:00:00'"
      ]
     },
     "execution_count": 39,
     "metadata": {},
     "output_type": "execute_result"
    }
   ],
   "source": [
    "data['date'].min()"
   ]
  },
  {
   "cell_type": "code",
   "execution_count": 40,
   "id": "17a99e67",
   "metadata": {},
   "outputs": [
    {
     "data": {
      "text/plain": [
       "'1884/12/31 00:00:00'"
      ]
     },
     "execution_count": 40,
     "metadata": {},
     "output_type": "execute_result"
    }
   ],
   "source": [
    "data['date'].max()"
   ]
  },
  {
   "cell_type": "markdown",
   "id": "c503eda7",
   "metadata": {},
   "source": [
    "Bekijk zelf de min en max van jaar. Komt dit overeen met de min en max van date?"
   ]
  },
  {
   "cell_type": "code",
   "execution_count": 41,
   "id": "e88777b9",
   "metadata": {},
   "outputs": [],
   "source": [
    "## Code voor jaar min"
   ]
  },
  {
   "cell_type": "code",
   "execution_count": 42,
   "id": "c288d135",
   "metadata": {},
   "outputs": [],
   "source": [
    "## Code voor jaar max"
   ]
  },
  {
   "cell_type": "markdown",
   "id": "eb734598",
   "metadata": {},
   "source": [
    "Ditzelfde kun je ook doen voor de dictionar score. Hier wordt een waarde tussen de 0 en 100 verwacht, aangezien dit het percentage gevonden woorden is. "
   ]
  },
  {
   "cell_type": "code",
   "execution_count": 43,
   "id": "c127323d",
   "metadata": {},
   "outputs": [],
   "source": [
    "## Code voor minimale DL score"
   ]
  },
  {
   "cell_type": "code",
   "execution_count": 44,
   "id": "dc340c0d",
   "metadata": {},
   "outputs": [],
   "source": [
    "## Code voor max DL score"
   ]
  },
  {
   "cell_type": "markdown",
   "id": "d4996a7a",
   "metadata": {},
   "source": [
    "Om te kijken of er geen hele korte of extreem lange artikelen inzitten, kun je de lengte van artikelen uitrekenen en een extra kolom toevoegen met deze lengte. Vervolgens kun je hier ook de min en max van bekijken. Dit kan je gebruiken om te kijken of je bepaalde artikellengtes wil uitsluiten (bijv. artikelen van 0 woorden of juist 10.000 woorden). \n",
    "\n",
    "Het berekenen van de lengte toen we heel arbitrair door de artikelen te splitsen op spaties. Deze methode is niet 100% correct maar geeft wel een goed globaal beeld. \n",
    "\n",
    "Aanpassingen die je voor alle rijen in een dataframe wilt uitvoeren kun je uitvoeren met onderstaande apply functie. "
   ]
  },
  {
   "cell_type": "code",
   "execution_count": 117,
   "id": "ce1e96c8",
   "metadata": {},
   "outputs": [],
   "source": [
    "data['length'] = data['content'].apply(lambda x: len(x.split()))"
   ]
  },
  {
   "cell_type": "code",
   "execution_count": 119,
   "id": "8392e2db",
   "metadata": {},
   "outputs": [
    {
     "data": {
      "text/html": [
       "<div>\n",
       "<style scoped>\n",
       "    .dataframe tbody tr th:only-of-type {\n",
       "        vertical-align: middle;\n",
       "    }\n",
       "\n",
       "    .dataframe tbody tr th {\n",
       "        vertical-align: top;\n",
       "    }\n",
       "\n",
       "    .dataframe thead th {\n",
       "        text-align: right;\n",
       "    }\n",
       "</style>\n",
       "<table border=\"1\" class=\"dataframe\">\n",
       "  <thead>\n",
       "    <tr style=\"text-align: right;\">\n",
       "      <th></th>\n",
       "      <th>identifier</th>\n",
       "      <th>type</th>\n",
       "      <th>title</th>\n",
       "      <th>date</th>\n",
       "      <th>content</th>\n",
       "      <th>subcategory</th>\n",
       "      <th>category</th>\n",
       "      <th>Year</th>\n",
       "      <th>DL score</th>\n",
       "      <th>spatial</th>\n",
       "      <th>length</th>\n",
       "    </tr>\n",
       "  </thead>\n",
       "  <tbody>\n",
       "    <tr>\n",
       "      <th>13</th>\n",
       "      <td>http://resolver.kb.nl/resolve?urn=ddd:01010307...</td>\n",
       "      <td>artikel</td>\n",
       "      <td>REGELING VAN OEN ZOMERDIENST.</td>\n",
       "      <td>1877/06/21 00:00:00</td>\n",
       "      <td>JNaar aanleiding ran het in ons nommer van 29 ...</td>\n",
       "      <td>trein</td>\n",
       "      <td>trein</td>\n",
       "      <td>1877</td>\n",
       "      <td>72.819315</td>\n",
       "      <td>Landelijk</td>\n",
       "      <td>1284</td>\n",
       "    </tr>\n",
       "    <tr>\n",
       "      <th>24</th>\n",
       "      <td>http://resolver.kb.nl/resolve?urn=ddd:01106750...</td>\n",
       "      <td>artikel</td>\n",
       "      <td>Bij de aanstaande winterdienstregeling</td>\n",
       "      <td>1880/09/15 00:00:00</td>\n",
       "      <td>Bij de aanstaande winterdienstregeling op de S...</td>\n",
       "      <td>trein</td>\n",
       "      <td>trein</td>\n",
       "      <td>1880</td>\n",
       "      <td>72.188139</td>\n",
       "      <td>Landelijk</td>\n",
       "      <td>489</td>\n",
       "    </tr>\n",
       "  </tbody>\n",
       "</table>\n",
       "</div>"
      ],
      "text/plain": [
       "                                           identifier     type  \\\n",
       "13  http://resolver.kb.nl/resolve?urn=ddd:01010307...  artikel   \n",
       "24  http://resolver.kb.nl/resolve?urn=ddd:01106750...  artikel   \n",
       "\n",
       "                                     title                 date  \\\n",
       "13           REGELING VAN OEN ZOMERDIENST.  1877/06/21 00:00:00   \n",
       "24  Bij de aanstaande winterdienstregeling  1880/09/15 00:00:00   \n",
       "\n",
       "                                              content subcategory category  \\\n",
       "13  JNaar aanleiding ran het in ons nommer van 29 ...       trein    trein   \n",
       "24  Bij de aanstaande winterdienstregeling op de S...       trein    trein   \n",
       "\n",
       "    Year   DL score    spatial  length  \n",
       "13  1877  72.819315  Landelijk    1284  \n",
       "24  1880  72.188139  Landelijk     489  "
      ]
     },
     "execution_count": 119,
     "metadata": {},
     "output_type": "execute_result"
    }
   ],
   "source": [
    "data.head(2)"
   ]
  },
  {
   "cell_type": "code",
   "execution_count": 120,
   "id": "232e95f8",
   "metadata": {},
   "outputs": [
    {
     "data": {
      "text/plain": [
       "451"
      ]
     },
     "execution_count": 120,
     "metadata": {},
     "output_type": "execute_result"
    }
   ],
   "source": [
    "data.length.min()"
   ]
  },
  {
   "cell_type": "code",
   "execution_count": 121,
   "id": "6e5f2c54",
   "metadata": {},
   "outputs": [
    {
     "data": {
      "text/plain": [
       "1499"
      ]
     },
     "execution_count": 121,
     "metadata": {},
     "output_type": "execute_result"
    }
   ],
   "source": [
    "data.length.max()"
   ]
  },
  {
   "cell_type": "markdown",
   "id": "79667b2a",
   "metadata": {},
   "source": [
    "Na deze eerste checks op de inhoud van het dataframe, wil je nog kijken of er geen lege cellen of Nan values in het dataframe voorkomen. (uitleg wat het verschil is?)"
   ]
  },
  {
   "cell_type": "code",
   "execution_count": 122,
   "id": "15f8e860",
   "metadata": {},
   "outputs": [
    {
     "data": {
      "text/html": [
       "<div>\n",
       "<style scoped>\n",
       "    .dataframe tbody tr th:only-of-type {\n",
       "        vertical-align: middle;\n",
       "    }\n",
       "\n",
       "    .dataframe tbody tr th {\n",
       "        vertical-align: top;\n",
       "    }\n",
       "\n",
       "    .dataframe thead th {\n",
       "        text-align: right;\n",
       "    }\n",
       "</style>\n",
       "<table border=\"1\" class=\"dataframe\">\n",
       "  <thead>\n",
       "    <tr style=\"text-align: right;\">\n",
       "      <th></th>\n",
       "      <th>identifier</th>\n",
       "      <th>type</th>\n",
       "      <th>title</th>\n",
       "      <th>date</th>\n",
       "      <th>content</th>\n",
       "      <th>subcategory</th>\n",
       "      <th>category</th>\n",
       "      <th>Year</th>\n",
       "      <th>DL score</th>\n",
       "      <th>spatial</th>\n",
       "      <th>length</th>\n",
       "    </tr>\n",
       "  </thead>\n",
       "  <tbody>\n",
       "    <tr>\n",
       "      <th>6749</th>\n",
       "      <td>http://resolver.kb.nl/resolve?urn=ddd:01010443...</td>\n",
       "      <td>artikel</td>\n",
       "      <td>NaN</td>\n",
       "      <td>1880/06/10 00:00:00</td>\n",
       "      <td>Ter aanvulling van het bericht over de betrekk...</td>\n",
       "      <td>trein</td>\n",
       "      <td>trein</td>\n",
       "      <td>1880</td>\n",
       "      <td>70.072333</td>\n",
       "      <td>Landelijk</td>\n",
       "      <td>1106</td>\n",
       "    </tr>\n",
       "    <tr>\n",
       "      <th>30850</th>\n",
       "      <td>http://resolver.kb.nl/resolve?urn=ddd:01006170...</td>\n",
       "      <td>artikel</td>\n",
       "      <td>NaN</td>\n",
       "      <td>1874/01/15 00:00:00</td>\n",
       "      <td>De Heer L. Hoefman, gezagvoerder van het stoom...</td>\n",
       "      <td>trein</td>\n",
       "      <td>trein</td>\n",
       "      <td>1874</td>\n",
       "      <td>64.586847</td>\n",
       "      <td>Regionaal/lokaal</td>\n",
       "      <td>593</td>\n",
       "    </tr>\n",
       "    <tr>\n",
       "      <th>48475</th>\n",
       "      <td>http://resolver.kb.nl/resolve?urn=ddd:01006082...</td>\n",
       "      <td>artikel</td>\n",
       "      <td>NaN</td>\n",
       "      <td>1873/10/10 00:00:00</td>\n",
       "      <td>Na hetgeen wij gisteren omtrent het feest mede...</td>\n",
       "      <td>trein</td>\n",
       "      <td>trein</td>\n",
       "      <td>1873</td>\n",
       "      <td>72.997033</td>\n",
       "      <td>Regionaal/lokaal</td>\n",
       "      <td>674</td>\n",
       "    </tr>\n",
       "  </tbody>\n",
       "</table>\n",
       "</div>"
      ],
      "text/plain": [
       "                                              identifier     type title  \\\n",
       "6749   http://resolver.kb.nl/resolve?urn=ddd:01010443...  artikel   NaN   \n",
       "30850  http://resolver.kb.nl/resolve?urn=ddd:01006170...  artikel   NaN   \n",
       "48475  http://resolver.kb.nl/resolve?urn=ddd:01006082...  artikel   NaN   \n",
       "\n",
       "                      date                                            content  \\\n",
       "6749   1880/06/10 00:00:00  Ter aanvulling van het bericht over de betrekk...   \n",
       "30850  1874/01/15 00:00:00  De Heer L. Hoefman, gezagvoerder van het stoom...   \n",
       "48475  1873/10/10 00:00:00  Na hetgeen wij gisteren omtrent het feest mede...   \n",
       "\n",
       "      subcategory category  Year   DL score           spatial  length  \n",
       "6749        trein    trein  1880  70.072333         Landelijk    1106  \n",
       "30850       trein    trein  1874  64.586847  Regionaal/lokaal     593  \n",
       "48475       trein    trein  1873  72.997033  Regionaal/lokaal     674  "
      ]
     },
     "execution_count": 122,
     "metadata": {},
     "output_type": "execute_result"
    }
   ],
   "source": [
    "data[data.isnull().any(axis= 1)]"
   ]
  },
  {
   "cell_type": "code",
   "execution_count": 123,
   "id": "3312d796",
   "metadata": {},
   "outputs": [],
   "source": [
    "data = data.dropna()"
   ]
  },
  {
   "cell_type": "code",
   "execution_count": 124,
   "id": "b61c3004",
   "metadata": {},
   "outputs": [
    {
     "data": {
      "text/html": [
       "<div>\n",
       "<style scoped>\n",
       "    .dataframe tbody tr th:only-of-type {\n",
       "        vertical-align: middle;\n",
       "    }\n",
       "\n",
       "    .dataframe tbody tr th {\n",
       "        vertical-align: top;\n",
       "    }\n",
       "\n",
       "    .dataframe thead th {\n",
       "        text-align: right;\n",
       "    }\n",
       "</style>\n",
       "<table border=\"1\" class=\"dataframe\">\n",
       "  <thead>\n",
       "    <tr style=\"text-align: right;\">\n",
       "      <th></th>\n",
       "      <th>identifier</th>\n",
       "      <th>type</th>\n",
       "      <th>title</th>\n",
       "      <th>date</th>\n",
       "      <th>content</th>\n",
       "      <th>subcategory</th>\n",
       "      <th>category</th>\n",
       "      <th>Year</th>\n",
       "      <th>DL score</th>\n",
       "      <th>spatial</th>\n",
       "      <th>length</th>\n",
       "    </tr>\n",
       "  </thead>\n",
       "  <tbody>\n",
       "  </tbody>\n",
       "</table>\n",
       "</div>"
      ],
      "text/plain": [
       "Empty DataFrame\n",
       "Columns: [identifier, type, title, date, content, subcategory, category, Year, DL score, spatial, length]\n",
       "Index: []"
      ]
     },
     "execution_count": 124,
     "metadata": {},
     "output_type": "execute_result"
    }
   ],
   "source": [
    "data[data.isnull().any(axis= 1)]"
   ]
  },
  {
   "cell_type": "markdown",
   "id": "e4538745",
   "metadata": {},
   "source": [
    "Na de aanpassingen kun je het dataframe opslaan. "
   ]
  },
  {
   "cell_type": "code",
   "execution_count": 126,
   "id": "356ee8cb",
   "metadata": {},
   "outputs": [],
   "source": [
    "data.to_csv('data/data_new.csv')"
   ]
  }
 ],
 "metadata": {
  "kernelspec": {
   "display_name": "Python 3 (ipykernel)",
   "language": "python",
   "name": "python3"
  },
  "language_info": {
   "codemirror_mode": {
    "name": "ipython",
    "version": 3
   },
   "file_extension": ".py",
   "mimetype": "text/x-python",
   "name": "python",
   "nbconvert_exporter": "python",
   "pygments_lexer": "ipython3",
   "version": "3.9.12"
  }
 },
 "nbformat": 4,
 "nbformat_minor": 5
}
