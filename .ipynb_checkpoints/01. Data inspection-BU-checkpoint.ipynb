{
 "cells": [
  {
   "cell_type": "markdown",
   "id": "4933b8ed",
   "metadata": {},
   "source": [
    "# Data inspection"
   ]
  },
  {
   "cell_type": "markdown",
   "id": "80621bc6",
   "metadata": {},
   "source": [
    "Import the necessay packages "
   ]
  },
  {
   "cell_type": "code",
   "execution_count": 3,
   "id": "4748e113",
   "metadata": {},
   "outputs": [],
   "source": [
    "import pandas as pd"
   ]
  },
  {
   "cell_type": "markdown",
   "id": "118c41a5",
   "metadata": {},
   "source": [
    "Load the data with the Pandas package. "
   ]
  },
  {
   "cell_type": "code",
   "execution_count": 29,
   "id": "c10908d3",
   "metadata": {},
   "outputs": [],
   "source": [
    "data = pd.read_csv('data/data.csv', index_col = 0)"
   ]
  },
  {
   "cell_type": "markdown",
   "id": "8c73c153",
   "metadata": {},
   "source": [
    "To get a first impression of the data, we display the first 4 columns using the head() function. "
   ]
  },
  {
   "cell_type": "code",
   "execution_count": 30,
   "id": "036e21b4",
   "metadata": {},
   "outputs": [
    {
     "data": {
      "text/html": [
       "<div>\n",
       "<style scoped>\n",
       "    .dataframe tbody tr th:only-of-type {\n",
       "        vertical-align: middle;\n",
       "    }\n",
       "\n",
       "    .dataframe tbody tr th {\n",
       "        vertical-align: top;\n",
       "    }\n",
       "\n",
       "    .dataframe thead th {\n",
       "        text-align: right;\n",
       "    }\n",
       "</style>\n",
       "<table border=\"1\" class=\"dataframe\">\n",
       "  <thead>\n",
       "    <tr style=\"text-align: right;\">\n",
       "      <th></th>\n",
       "      <th>identifier</th>\n",
       "      <th>type</th>\n",
       "      <th>title</th>\n",
       "      <th>date</th>\n",
       "      <th>content</th>\n",
       "      <th>subcategory</th>\n",
       "      <th>category</th>\n",
       "      <th>Year</th>\n",
       "      <th>DL score</th>\n",
       "      <th>Length</th>\n",
       "      <th>spatial</th>\n",
       "    </tr>\n",
       "  </thead>\n",
       "  <tbody>\n",
       "    <tr>\n",
       "      <th>4</th>\n",
       "      <td>http://resolver.kb.nl/resolve?urn=ddd:01106720...</td>\n",
       "      <td>artikel</td>\n",
       "      <td>Omtrent het bekende spoorwegongeval op den</td>\n",
       "      <td>1879/09/24 00:00:00</td>\n",
       "      <td>Omtrent het bekende spoorwegongeval op den Rgn...</td>\n",
       "      <td>trein</td>\n",
       "      <td>trein</td>\n",
       "      <td>1879</td>\n",
       "      <td>74.285714</td>\n",
       "      <td>245</td>\n",
       "      <td>Landelijk</td>\n",
       "    </tr>\n",
       "    <tr>\n",
       "      <th>6</th>\n",
       "      <td>http://resolver.kb.nl/resolve?urn=ddd:01106812...</td>\n",
       "      <td>artikel</td>\n",
       "      <td>Winterdienst.</td>\n",
       "      <td>1882/10/12 00:00:00</td>\n",
       "      <td>De Winterdienst op de lijnen van de Hollandsch...</td>\n",
       "      <td>trein</td>\n",
       "      <td>trein</td>\n",
       "      <td>1882</td>\n",
       "      <td>74.048443</td>\n",
       "      <td>289</td>\n",
       "      <td>Landelijk</td>\n",
       "    </tr>\n",
       "    <tr>\n",
       "      <th>14</th>\n",
       "      <td>http://resolver.kb.nl/resolve?urn=ddd:01010396...</td>\n",
       "      <td>artikel</td>\n",
       "      <td>TELEURSTELLING OP REIS.</td>\n",
       "      <td>1881/03/17 00:00:00</td>\n",
       "      <td>Vrijdag il. wilde ik met trein 64 uit Antwerpe...</td>\n",
       "      <td>trein</td>\n",
       "      <td>trein</td>\n",
       "      <td>1881</td>\n",
       "      <td>78.431373</td>\n",
       "      <td>153</td>\n",
       "      <td>Landelijk</td>\n",
       "    </tr>\n",
       "    <tr>\n",
       "      <th>17</th>\n",
       "      <td>http://resolver.kb.nl/resolve?urn=ddd:01026621...</td>\n",
       "      <td>artikel</td>\n",
       "      <td>POSTERIJEN EN TELEGRAPHIE.</td>\n",
       "      <td>1883/11/01 00:00:00</td>\n",
       "      <td>De directeur van het postkantoor te Amsterdam ...</td>\n",
       "      <td>trein</td>\n",
       "      <td>trein</td>\n",
       "      <td>1883</td>\n",
       "      <td>74.576271</td>\n",
       "      <td>118</td>\n",
       "      <td>Landelijk</td>\n",
       "    </tr>\n",
       "  </tbody>\n",
       "</table>\n",
       "</div>"
      ],
      "text/plain": [
       "                                           identifier     type  \\\n",
       "4   http://resolver.kb.nl/resolve?urn=ddd:01106720...  artikel   \n",
       "6   http://resolver.kb.nl/resolve?urn=ddd:01106812...  artikel   \n",
       "14  http://resolver.kb.nl/resolve?urn=ddd:01010396...  artikel   \n",
       "17  http://resolver.kb.nl/resolve?urn=ddd:01026621...  artikel   \n",
       "\n",
       "                                         title                 date  \\\n",
       "4   Omtrent het bekende spoorwegongeval op den  1879/09/24 00:00:00   \n",
       "6                                Winterdienst.  1882/10/12 00:00:00   \n",
       "14                     TELEURSTELLING OP REIS.  1881/03/17 00:00:00   \n",
       "17                  POSTERIJEN EN TELEGRAPHIE.  1883/11/01 00:00:00   \n",
       "\n",
       "                                              content subcategory category  \\\n",
       "4   Omtrent het bekende spoorwegongeval op den Rgn...       trein    trein   \n",
       "6   De Winterdienst op de lijnen van de Hollandsch...       trein    trein   \n",
       "14  Vrijdag il. wilde ik met trein 64 uit Antwerpe...       trein    trein   \n",
       "17  De directeur van het postkantoor te Amsterdam ...       trein    trein   \n",
       "\n",
       "    Year   DL score  Length    spatial  \n",
       "4   1879  74.285714     245  Landelijk  \n",
       "6   1882  74.048443     289  Landelijk  \n",
       "14  1881  78.431373     153  Landelijk  \n",
       "17  1883  74.576271     118  Landelijk  "
      ]
     },
     "execution_count": 30,
     "metadata": {},
     "output_type": "execute_result"
    }
   ],
   "source": [
    "data.head(4)"
   ]
  },
  {
   "cell_type": "markdown",
   "id": "62b79f69",
   "metadata": {},
   "source": [
    "The first step is to check if all the rows of the dataframe are uniques. Sometimes it happends that accidentaly rows are duplicated during data gathering, so it's good practice to perform this check before doing further analyses. \n",
    "Pandas had a function 'drop_duplicates()' that can be used to remove duplicates in your dataframe. You can use it to remove rows that are duplicate, but you can also use it for example to remove only rows with duplicate identifiers. \n",
    "\n",
    "Add this moment we are only interesting in unique rows. And I do not only want to delete duplicates, but also check it there were any duplicates.\n",
    "\n",
    "I start with counting the rows in mijn dataframe:"
   ]
  },
  {
   "cell_type": "code",
   "execution_count": 31,
   "id": "e018ce87",
   "metadata": {},
   "outputs": [
    {
     "data": {
      "text/plain": [
       "87069"
      ]
     },
     "execution_count": 31,
     "metadata": {},
     "output_type": "execute_result"
    }
   ],
   "source": [
    "len(data)"
   ]
  },
  {
   "cell_type": "markdown",
   "id": "e16113b9",
   "metadata": {},
   "source": [
    "Then drop_duplicates. This removes duplicates rows by keeping only one of them. "
   ]
  },
  {
   "cell_type": "code",
   "execution_count": 32,
   "id": "c04a077d",
   "metadata": {},
   "outputs": [],
   "source": [
    "data = data.drop_duplicates()"
   ]
  },
  {
   "cell_type": "markdown",
   "id": "ae4ff850",
   "metadata": {},
   "source": [
    "And print again the length"
   ]
  },
  {
   "cell_type": "code",
   "execution_count": 33,
   "id": "3e579185",
   "metadata": {},
   "outputs": [
    {
     "data": {
      "text/plain": [
       "87069"
      ]
     },
     "execution_count": 33,
     "metadata": {},
     "output_type": "execute_result"
    }
   ],
   "source": [
    "len(data)"
   ]
  },
  {
   "cell_type": "markdown",
   "id": "5c9579bb",
   "metadata": {},
   "source": [
    "# TO DO: ga ik dubbele introduceren voor de summerschool? (alleen voor trein set)"
   ]
  },
  {
   "cell_type": "markdown",
   "id": "620125df",
   "metadata": {},
   "source": [
    "Now we have dropped all duplicates, we want to look at the indentifiers. We want to compare unique articels so its good to check "
   ]
  },
  {
   "cell_type": "code",
   "execution_count": 34,
   "id": "276814bb",
   "metadata": {},
   "outputs": [
    {
     "data": {
      "text/plain": [
       "87069"
      ]
     },
     "execution_count": 34,
     "metadata": {},
     "output_type": "execute_result"
    }
   ],
   "source": [
    "data['identifier'].nunique()"
   ]
  },
  {
   "cell_type": "markdown",
   "id": "4d9959b2",
   "metadata": {},
   "source": [
    "After this first inspection rough inspection, we want to see if the content of the columns looks plausible. For the categorial columns, we can print the unique categories that are in there, to check for any anolomies. This can be done with the unique() function. "
   ]
  },
  {
   "cell_type": "markdown",
   "id": "78957445",
   "metadata": {},
   "source": [
    "# TO DO: in één of meerdere categorieën een fout introduceren zodat ze die kunnen verbeteren (alleen voor trein set)"
   ]
  },
  {
   "cell_type": "code",
   "execution_count": 35,
   "id": "92218a4e",
   "metadata": {},
   "outputs": [
    {
     "data": {
      "text/plain": [
       "array(['artikel', 'advertentie', 'familiebericht'], dtype=object)"
      ]
     },
     "execution_count": 35,
     "metadata": {},
     "output_type": "execute_result"
    }
   ],
   "source": [
    "data['type'].unique()"
   ]
  },
  {
   "cell_type": "markdown",
   "id": "8cf11fac",
   "metadata": {},
   "source": [
    "Bekijk nu zelf de unieke categorieën voor de kolommen subcategory, category and spatial. "
   ]
  },
  {
   "cell_type": "code",
   "execution_count": 36,
   "id": "19d667d4",
   "metadata": {},
   "outputs": [],
   "source": [
    "## Code for subcategory"
   ]
  },
  {
   "cell_type": "code",
   "execution_count": 37,
   "id": "de3f60d3",
   "metadata": {},
   "outputs": [],
   "source": [
    "## Code for category"
   ]
  },
  {
   "cell_type": "code",
   "execution_count": 38,
   "id": "884c1921",
   "metadata": {},
   "outputs": [],
   "source": [
    "## COde for spatial"
   ]
  },
  {
   "cell_type": "markdown",
   "id": "fb45d65d",
   "metadata": {},
   "source": [
    "# TO DO: als er fouten in zitten, dan deze verbeteren  (alleen v oor trein set zodat het niet utmaakt als het Notebook opnieuw geladen moet worden)"
   ]
  },
  {
   "cell_type": "markdown",
   "id": "40a411bf",
   "metadata": {},
   "source": [
    "Voor andere kolommmen, zoals data en year, kunnen we kijken naar de minimale en maximale waarde. Aan de hand daarvan kunnen we kijken of deze inderdaad kloppen met de verwachtingn van de dataset qua afbakingen. \n",
    "\n",
    "Dit kun je doen met de min() en max() functies."
   ]
  },
  {
   "cell_type": "code",
   "execution_count": 39,
   "id": "816f84eb",
   "metadata": {},
   "outputs": [
    {
     "data": {
      "text/plain": [
       "'1869/01/01 00:00:00'"
      ]
     },
     "execution_count": 39,
     "metadata": {},
     "output_type": "execute_result"
    }
   ],
   "source": [
    "data['date'].min()"
   ]
  },
  {
   "cell_type": "code",
   "execution_count": 40,
   "id": "1e6a59c7",
   "metadata": {},
   "outputs": [
    {
     "data": {
      "text/plain": [
       "'1884/12/31 00:00:00'"
      ]
     },
     "execution_count": 40,
     "metadata": {},
     "output_type": "execute_result"
    }
   ],
   "source": [
    "data['date'].max()"
   ]
  },
  {
   "cell_type": "markdown",
   "id": "9d1654db",
   "metadata": {},
   "source": [
    "Bekijk zelf de min en max van jaar. Komt dit overeen met de min en max van date?"
   ]
  },
  {
   "cell_type": "code",
   "execution_count": 41,
   "id": "65fa6ef6",
   "metadata": {},
   "outputs": [],
   "source": [
    "## Code voor jaar min"
   ]
  },
  {
   "cell_type": "code",
   "execution_count": 42,
   "id": "e756dbb2",
   "metadata": {},
   "outputs": [],
   "source": [
    "## Code voor jaar max"
   ]
  },
  {
   "cell_type": "markdown",
   "id": "b1faf5af",
   "metadata": {},
   "source": [
    "Ditzelfde kun je ook doen voor de dictionar score. Hier wordt een waarde tussen de 0 en 100 verwacht, aangezien dit het percentage gevonden woorden is. "
   ]
  },
  {
   "cell_type": "code",
   "execution_count": 43,
   "id": "f8e733f9",
   "metadata": {},
   "outputs": [],
   "source": [
    "## Code voor minimale DL score"
   ]
  },
  {
   "cell_type": "code",
   "execution_count": 44,
   "id": "ef96305e",
   "metadata": {},
   "outputs": [],
   "source": [
    "## Code voor max DL score"
   ]
  },
  {
   "cell_type": "markdown",
   "id": "9e4e4bae",
   "metadata": {},
   "source": [
    "Na deze eerste checks op de inhoud van het dataframe, wil je nog kijken of er geen lege cellen of Nan values in het dataframe voorkomen. (uitleg wat het verschil is?)"
   ]
  },
  {
   "cell_type": "code",
   "execution_count": 45,
   "id": "2aa01a94",
   "metadata": {},
   "outputs": [
    {
     "data": {
      "text/html": [
       "<div>\n",
       "<style scoped>\n",
       "    .dataframe tbody tr th:only-of-type {\n",
       "        vertical-align: middle;\n",
       "    }\n",
       "\n",
       "    .dataframe tbody tr th {\n",
       "        vertical-align: top;\n",
       "    }\n",
       "\n",
       "    .dataframe thead th {\n",
       "        text-align: right;\n",
       "    }\n",
       "</style>\n",
       "<table border=\"1\" class=\"dataframe\">\n",
       "  <thead>\n",
       "    <tr style=\"text-align: right;\">\n",
       "      <th></th>\n",
       "      <th>identifier</th>\n",
       "      <th>type</th>\n",
       "      <th>title</th>\n",
       "      <th>date</th>\n",
       "      <th>content</th>\n",
       "      <th>subcategory</th>\n",
       "      <th>category</th>\n",
       "      <th>Year</th>\n",
       "      <th>DL score</th>\n",
       "      <th>Length</th>\n",
       "      <th>spatial</th>\n",
       "    </tr>\n",
       "  </thead>\n",
       "  <tbody>\n",
       "    <tr>\n",
       "      <th>11514</th>\n",
       "      <td>http://resolver.kb.nl/resolve?urn=ddd:01010443...</td>\n",
       "      <td>artikel</td>\n",
       "      <td>NaN</td>\n",
       "      <td>1880/06/10 00:00:00</td>\n",
       "      <td>Ter aanvulling van het bericht over de betrekk...</td>\n",
       "      <td>trein</td>\n",
       "      <td>trein</td>\n",
       "      <td>1880</td>\n",
       "      <td>70.072333</td>\n",
       "      <td>1106</td>\n",
       "      <td>Landelijk</td>\n",
       "    </tr>\n",
       "    <tr>\n",
       "      <th>41991</th>\n",
       "      <td>http://resolver.kb.nl/resolve?urn=ddd:01018762...</td>\n",
       "      <td>artikel</td>\n",
       "      <td>NaN</td>\n",
       "      <td>1883/07/12 00:00:00</td>\n",
       "      <td>De drie Duitschers,beschuldigd van poging tot ...</td>\n",
       "      <td>trein</td>\n",
       "      <td>trein</td>\n",
       "      <td>1883</td>\n",
       "      <td>73.964497</td>\n",
       "      <td>169</td>\n",
       "      <td>Regionaal/lokaal</td>\n",
       "    </tr>\n",
       "    <tr>\n",
       "      <th>52422</th>\n",
       "      <td>http://resolver.kb.nl/resolve?urn=ddd:01006170...</td>\n",
       "      <td>artikel</td>\n",
       "      <td>NaN</td>\n",
       "      <td>1874/01/15 00:00:00</td>\n",
       "      <td>De Heer L. Hoefman, gezagvoerder van het stoom...</td>\n",
       "      <td>trein</td>\n",
       "      <td>trein</td>\n",
       "      <td>1874</td>\n",
       "      <td>64.586847</td>\n",
       "      <td>593</td>\n",
       "      <td>Regionaal/lokaal</td>\n",
       "    </tr>\n",
       "    <tr>\n",
       "      <th>75935</th>\n",
       "      <td>http://resolver.kb.nl/resolve?urn=ddd:01006082...</td>\n",
       "      <td>artikel</td>\n",
       "      <td>NaN</td>\n",
       "      <td>1873/10/10 00:00:00</td>\n",
       "      <td>Na hetgeen wij gisteren omtrent het feest mede...</td>\n",
       "      <td>trein</td>\n",
       "      <td>trein</td>\n",
       "      <td>1873</td>\n",
       "      <td>72.997033</td>\n",
       "      <td>674</td>\n",
       "      <td>Regionaal/lokaal</td>\n",
       "    </tr>\n",
       "    <tr>\n",
       "      <th>108607</th>\n",
       "      <td>http://resolver.kb.nl/resolve?urn=KBDDD02:0002...</td>\n",
       "      <td>artikel</td>\n",
       "      <td>EXTRA-NUMMER VAN De Locomotief. ZONDAG, 25 Maa...</td>\n",
       "      <td>1883/03/22 00:00:00</td>\n",
       "      <td>NaN</td>\n",
       "      <td>locomotief</td>\n",
       "      <td>trein</td>\n",
       "      <td>1883</td>\n",
       "      <td>0.000000</td>\n",
       "      <td>1</td>\n",
       "      <td>Regionaal/lokaal</td>\n",
       "    </tr>\n",
       "    <tr>\n",
       "      <th>3271</th>\n",
       "      <td>http://resolver.kb.nl/resolve?urn=ddd:01006080...</td>\n",
       "      <td>artikel</td>\n",
       "      <td>NaN</td>\n",
       "      <td>1873/09/16 00:00:00</td>\n",
       "      <td>Met het stoomschip Koning der .N e derlanden, ...</td>\n",
       "      <td>velocipede</td>\n",
       "      <td>fiets</td>\n",
       "      <td>1873</td>\n",
       "      <td>68.017159</td>\n",
       "      <td>2098</td>\n",
       "      <td>Regionaal/lokaal</td>\n",
       "    </tr>\n",
       "  </tbody>\n",
       "</table>\n",
       "</div>"
      ],
      "text/plain": [
       "                                               identifier     type  \\\n",
       "11514   http://resolver.kb.nl/resolve?urn=ddd:01010443...  artikel   \n",
       "41991   http://resolver.kb.nl/resolve?urn=ddd:01018762...  artikel   \n",
       "52422   http://resolver.kb.nl/resolve?urn=ddd:01006170...  artikel   \n",
       "75935   http://resolver.kb.nl/resolve?urn=ddd:01006082...  artikel   \n",
       "108607  http://resolver.kb.nl/resolve?urn=KBDDD02:0002...  artikel   \n",
       "3271    http://resolver.kb.nl/resolve?urn=ddd:01006080...  artikel   \n",
       "\n",
       "                                                    title  \\\n",
       "11514                                                 NaN   \n",
       "41991                                                 NaN   \n",
       "52422                                                 NaN   \n",
       "75935                                                 NaN   \n",
       "108607  EXTRA-NUMMER VAN De Locomotief. ZONDAG, 25 Maa...   \n",
       "3271                                                  NaN   \n",
       "\n",
       "                       date  \\\n",
       "11514   1880/06/10 00:00:00   \n",
       "41991   1883/07/12 00:00:00   \n",
       "52422   1874/01/15 00:00:00   \n",
       "75935   1873/10/10 00:00:00   \n",
       "108607  1883/03/22 00:00:00   \n",
       "3271    1873/09/16 00:00:00   \n",
       "\n",
       "                                                  content subcategory  \\\n",
       "11514   Ter aanvulling van het bericht over de betrekk...       trein   \n",
       "41991   De drie Duitschers,beschuldigd van poging tot ...       trein   \n",
       "52422   De Heer L. Hoefman, gezagvoerder van het stoom...       trein   \n",
       "75935   Na hetgeen wij gisteren omtrent het feest mede...       trein   \n",
       "108607                                                NaN  locomotief   \n",
       "3271    Met het stoomschip Koning der .N e derlanden, ...  velocipede   \n",
       "\n",
       "       category  Year   DL score  Length           spatial  \n",
       "11514     trein  1880  70.072333    1106         Landelijk  \n",
       "41991     trein  1883  73.964497     169  Regionaal/lokaal  \n",
       "52422     trein  1874  64.586847     593  Regionaal/lokaal  \n",
       "75935     trein  1873  72.997033     674  Regionaal/lokaal  \n",
       "108607    trein  1883   0.000000       1  Regionaal/lokaal  \n",
       "3271      fiets  1873  68.017159    2098  Regionaal/lokaal  "
      ]
     },
     "execution_count": 45,
     "metadata": {},
     "output_type": "execute_result"
    }
   ],
   "source": [
    "data[data.isnull().any(axis= 1)]"
   ]
  },
  {
   "cell_type": "code",
   "execution_count": 46,
   "id": "7201b538",
   "metadata": {},
   "outputs": [],
   "source": [
    "data = data.dropna()"
   ]
  },
  {
   "cell_type": "code",
   "execution_count": 47,
   "id": "d6346245",
   "metadata": {},
   "outputs": [
    {
     "data": {
      "text/plain": [
       "87063"
      ]
     },
     "execution_count": 47,
     "metadata": {},
     "output_type": "execute_result"
    }
   ],
   "source": [
    "len(data)"
   ]
  },
  {
   "cell_type": "code",
   "execution_count": 48,
   "id": "af8d32d6",
   "metadata": {},
   "outputs": [
    {
     "data": {
      "text/html": [
       "<div>\n",
       "<style scoped>\n",
       "    .dataframe tbody tr th:only-of-type {\n",
       "        vertical-align: middle;\n",
       "    }\n",
       "\n",
       "    .dataframe tbody tr th {\n",
       "        vertical-align: top;\n",
       "    }\n",
       "\n",
       "    .dataframe thead th {\n",
       "        text-align: right;\n",
       "    }\n",
       "</style>\n",
       "<table border=\"1\" class=\"dataframe\">\n",
       "  <thead>\n",
       "    <tr style=\"text-align: right;\">\n",
       "      <th></th>\n",
       "      <th>identifier</th>\n",
       "      <th>type</th>\n",
       "      <th>title</th>\n",
       "      <th>date</th>\n",
       "      <th>content</th>\n",
       "      <th>subcategory</th>\n",
       "      <th>category</th>\n",
       "      <th>Year</th>\n",
       "      <th>DL score</th>\n",
       "      <th>Length</th>\n",
       "      <th>spatial</th>\n",
       "    </tr>\n",
       "  </thead>\n",
       "  <tbody>\n",
       "  </tbody>\n",
       "</table>\n",
       "</div>"
      ],
      "text/plain": [
       "Empty DataFrame\n",
       "Columns: [identifier, type, title, date, content, subcategory, category, Year, DL score, Length, spatial]\n",
       "Index: []"
      ]
     },
     "execution_count": 48,
     "metadata": {},
     "output_type": "execute_result"
    }
   ],
   "source": [
    "data[data.isnull().any(axis= 1)]"
   ]
  },
  {
   "cell_type": "markdown",
   "id": "9178fa71",
   "metadata": {},
   "source": [
    "# Einde Notebook 1"
   ]
  },
  {
   "cell_type": "code",
   "execution_count": 51,
   "id": "efaf451d",
   "metadata": {},
   "outputs": [],
   "source": [
    "test = data"
   ]
  },
  {
   "cell_type": "code",
   "execution_count": 55,
   "id": "f5a56a59",
   "metadata": {},
   "outputs": [],
   "source": [
    "test = data[data['DL score'] > 70]"
   ]
  },
  {
   "cell_type": "code",
   "execution_count": 66,
   "id": "0e0f36b2",
   "metadata": {},
   "outputs": [
    {
     "data": {
      "text/plain": [
       "<AxesSubplot:>"
      ]
     },
     "execution_count": 66,
     "metadata": {},
     "output_type": "execute_result"
    },
    {
     "data": {
      "image/png": "[encoded data removed]",
      "text/plain": [
       "<Figure size 432x288 with 1 Axes>"
      ]
     },
     "metadata": {
      "needs_background": "light"
     },
     "output_type": "display_data"
    }
   ],
   "source": [
    "data['Length'].hist()"
   ]
  },
  {
   "cell_type": "code",
   "execution_count": 60,
   "id": "d199cbe6",
   "metadata": {},
   "outputs": [
    {
     "data": {
      "text/html": [
       "<div>\n",
       "<style scoped>\n",
       "    .dataframe tbody tr th:only-of-type {\n",
       "        vertical-align: middle;\n",
       "    }\n",
       "\n",
       "    .dataframe tbody tr th {\n",
       "        vertical-align: top;\n",
       "    }\n",
       "\n",
       "    .dataframe thead th {\n",
       "        text-align: right;\n",
       "    }\n",
       "</style>\n",
       "<table border=\"1\" class=\"dataframe\">\n",
       "  <thead>\n",
       "    <tr style=\"text-align: right;\">\n",
       "      <th></th>\n",
       "      <th></th>\n",
       "      <th></th>\n",
       "      <th>identifier</th>\n",
       "      <th>title</th>\n",
       "      <th>date</th>\n",
       "      <th>content</th>\n",
       "      <th>subcategory</th>\n",
       "      <th>Year</th>\n",
       "      <th>DL score</th>\n",
       "      <th>Length</th>\n",
       "    </tr>\n",
       "    <tr>\n",
       "      <th>category</th>\n",
       "      <th>type</th>\n",
       "      <th>spatial</th>\n",
       "      <th></th>\n",
       "      <th></th>\n",
       "      <th></th>\n",
       "      <th></th>\n",
       "      <th></th>\n",
       "      <th></th>\n",
       "      <th></th>\n",
       "      <th></th>\n",
       "    </tr>\n",
       "  </thead>\n",
       "  <tbody>\n",
       "    <tr>\n",
       "      <th rowspan=\"2\" valign=\"top\">fiets</th>\n",
       "      <th rowspan=\"2\" valign=\"top\">artikel</th>\n",
       "      <th>Landelijk</th>\n",
       "      <td>143</td>\n",
       "      <td>143</td>\n",
       "      <td>143</td>\n",
       "      <td>143</td>\n",
       "      <td>143</td>\n",
       "      <td>143</td>\n",
       "      <td>143</td>\n",
       "      <td>143</td>\n",
       "    </tr>\n",
       "    <tr>\n",
       "      <th>Regionaal/lokaal</th>\n",
       "      <td>835</td>\n",
       "      <td>835</td>\n",
       "      <td>835</td>\n",
       "      <td>835</td>\n",
       "      <td>835</td>\n",
       "      <td>835</td>\n",
       "      <td>835</td>\n",
       "      <td>835</td>\n",
       "    </tr>\n",
       "    <tr>\n",
       "      <th rowspan=\"5\" valign=\"top\">trein</th>\n",
       "      <th rowspan=\"2\" valign=\"top\">advertentie</th>\n",
       "      <th>Landelijk</th>\n",
       "      <td>11</td>\n",
       "      <td>11</td>\n",
       "      <td>11</td>\n",
       "      <td>11</td>\n",
       "      <td>11</td>\n",
       "      <td>11</td>\n",
       "      <td>11</td>\n",
       "      <td>11</td>\n",
       "    </tr>\n",
       "    <tr>\n",
       "      <th>Regionaal/lokaal</th>\n",
       "      <td>46</td>\n",
       "      <td>46</td>\n",
       "      <td>46</td>\n",
       "      <td>46</td>\n",
       "      <td>46</td>\n",
       "      <td>46</td>\n",
       "      <td>46</td>\n",
       "      <td>46</td>\n",
       "    </tr>\n",
       "    <tr>\n",
       "      <th rowspan=\"2\" valign=\"top\">artikel</th>\n",
       "      <th>Landelijk</th>\n",
       "      <td>10281</td>\n",
       "      <td>10281</td>\n",
       "      <td>10281</td>\n",
       "      <td>10281</td>\n",
       "      <td>10281</td>\n",
       "      <td>10281</td>\n",
       "      <td>10281</td>\n",
       "      <td>10281</td>\n",
       "    </tr>\n",
       "    <tr>\n",
       "      <th>Regionaal/lokaal</th>\n",
       "      <td>35869</td>\n",
       "      <td>35869</td>\n",
       "      <td>35869</td>\n",
       "      <td>35869</td>\n",
       "      <td>35869</td>\n",
       "      <td>35869</td>\n",
       "      <td>35869</td>\n",
       "      <td>35869</td>\n",
       "    </tr>\n",
       "    <tr>\n",
       "      <th>familiebericht</th>\n",
       "      <th>Regionaal/lokaal</th>\n",
       "      <td>2</td>\n",
       "      <td>2</td>\n",
       "      <td>2</td>\n",
       "      <td>2</td>\n",
       "      <td>2</td>\n",
       "      <td>2</td>\n",
       "      <td>2</td>\n",
       "      <td>2</td>\n",
       "    </tr>\n",
       "  </tbody>\n",
       "</table>\n",
       "</div>"
      ],
      "text/plain": [
       "                                          identifier  title   date  content  \\\n",
       "category type           spatial                                               \n",
       "fiets    artikel        Landelijk                143    143    143      143   \n",
       "                        Regionaal/lokaal         835    835    835      835   \n",
       "trein    advertentie    Landelijk                 11     11     11       11   \n",
       "                        Regionaal/lokaal          46     46     46       46   \n",
       "         artikel        Landelijk              10281  10281  10281    10281   \n",
       "                        Regionaal/lokaal       35869  35869  35869    35869   \n",
       "         familiebericht Regionaal/lokaal           2      2      2        2   \n",
       "\n",
       "                                          subcategory   Year  DL score  Length  \n",
       "category type           spatial                                                 \n",
       "fiets    artikel        Landelijk                 143    143       143     143  \n",
       "                        Regionaal/lokaal          835    835       835     835  \n",
       "trein    advertentie    Landelijk                  11     11        11      11  \n",
       "                        Regionaal/lokaal           46     46        46      46  \n",
       "         artikel        Landelijk               10281  10281     10281   10281  \n",
       "                        Regionaal/lokaal        35869  35869     35869   35869  \n",
       "         familiebericht Regionaal/lokaal            2      2         2       2  "
      ]
     },
     "execution_count": 60,
     "metadata": {},
     "output_type": "execute_result"
    }
   ],
   "source": [
    "test.groupby(['category', 'type', 'spatial']).count()"
   ]
  },
  {
   "cell_type": "code",
   "execution_count": 61,
   "id": "332dd7bc",
   "metadata": {},
   "outputs": [],
   "source": [
    "test = test[test['Length'] > 45]"
   ]
  },
  {
   "cell_type": "code",
   "execution_count": 65,
   "id": "e47a64a0",
   "metadata": {},
   "outputs": [
    {
     "data": {
      "text/html": [
       "<div>\n",
       "<style scoped>\n",
       "    .dataframe tbody tr th:only-of-type {\n",
       "        vertical-align: middle;\n",
       "    }\n",
       "\n",
       "    .dataframe tbody tr th {\n",
       "        vertical-align: top;\n",
       "    }\n",
       "\n",
       "    .dataframe thead th {\n",
       "        text-align: right;\n",
       "    }\n",
       "</style>\n",
       "<table border=\"1\" class=\"dataframe\">\n",
       "  <thead>\n",
       "    <tr style=\"text-align: right;\">\n",
       "      <th></th>\n",
       "      <th></th>\n",
       "      <th>identifier</th>\n",
       "      <th>type</th>\n",
       "      <th>title</th>\n",
       "      <th>date</th>\n",
       "      <th>content</th>\n",
       "      <th>subcategory</th>\n",
       "      <th>DL score</th>\n",
       "      <th>Length</th>\n",
       "      <th>spatial</th>\n",
       "    </tr>\n",
       "    <tr>\n",
       "      <th>category</th>\n",
       "      <th>Year</th>\n",
       "      <th></th>\n",
       "      <th></th>\n",
       "      <th></th>\n",
       "      <th></th>\n",
       "      <th></th>\n",
       "      <th></th>\n",
       "      <th></th>\n",
       "      <th></th>\n",
       "      <th></th>\n",
       "    </tr>\n",
       "  </thead>\n",
       "  <tbody>\n",
       "    <tr>\n",
       "      <th rowspan=\"16\" valign=\"top\">fiets</th>\n",
       "      <th>1869</th>\n",
       "      <td>201</td>\n",
       "      <td>201</td>\n",
       "      <td>201</td>\n",
       "      <td>201</td>\n",
       "      <td>201</td>\n",
       "      <td>201</td>\n",
       "      <td>201</td>\n",
       "      <td>201</td>\n",
       "      <td>201</td>\n",
       "    </tr>\n",
       "    <tr>\n",
       "      <th>1870</th>\n",
       "      <td>36</td>\n",
       "      <td>36</td>\n",
       "      <td>36</td>\n",
       "      <td>36</td>\n",
       "      <td>36</td>\n",
       "      <td>36</td>\n",
       "      <td>36</td>\n",
       "      <td>36</td>\n",
       "      <td>36</td>\n",
       "    </tr>\n",
       "    <tr>\n",
       "      <th>1871</th>\n",
       "      <td>64</td>\n",
       "      <td>64</td>\n",
       "      <td>64</td>\n",
       "      <td>64</td>\n",
       "      <td>64</td>\n",
       "      <td>64</td>\n",
       "      <td>64</td>\n",
       "      <td>64</td>\n",
       "      <td>64</td>\n",
       "    </tr>\n",
       "    <tr>\n",
       "      <th>1872</th>\n",
       "      <td>38</td>\n",
       "      <td>38</td>\n",
       "      <td>38</td>\n",
       "      <td>38</td>\n",
       "      <td>38</td>\n",
       "      <td>38</td>\n",
       "      <td>38</td>\n",
       "      <td>38</td>\n",
       "      <td>38</td>\n",
       "    </tr>\n",
       "    <tr>\n",
       "      <th>1873</th>\n",
       "      <td>16</td>\n",
       "      <td>16</td>\n",
       "      <td>16</td>\n",
       "      <td>16</td>\n",
       "      <td>16</td>\n",
       "      <td>16</td>\n",
       "      <td>16</td>\n",
       "      <td>16</td>\n",
       "      <td>16</td>\n",
       "    </tr>\n",
       "    <tr>\n",
       "      <th>1874</th>\n",
       "      <td>37</td>\n",
       "      <td>37</td>\n",
       "      <td>37</td>\n",
       "      <td>37</td>\n",
       "      <td>37</td>\n",
       "      <td>37</td>\n",
       "      <td>37</td>\n",
       "      <td>37</td>\n",
       "      <td>37</td>\n",
       "    </tr>\n",
       "    <tr>\n",
       "      <th>1875</th>\n",
       "      <td>55</td>\n",
       "      <td>55</td>\n",
       "      <td>55</td>\n",
       "      <td>55</td>\n",
       "      <td>55</td>\n",
       "      <td>55</td>\n",
       "      <td>55</td>\n",
       "      <td>55</td>\n",
       "      <td>55</td>\n",
       "    </tr>\n",
       "    <tr>\n",
       "      <th>1876</th>\n",
       "      <td>52</td>\n",
       "      <td>52</td>\n",
       "      <td>52</td>\n",
       "      <td>52</td>\n",
       "      <td>52</td>\n",
       "      <td>52</td>\n",
       "      <td>52</td>\n",
       "      <td>52</td>\n",
       "      <td>52</td>\n",
       "    </tr>\n",
       "    <tr>\n",
       "      <th>1877</th>\n",
       "      <td>25</td>\n",
       "      <td>25</td>\n",
       "      <td>25</td>\n",
       "      <td>25</td>\n",
       "      <td>25</td>\n",
       "      <td>25</td>\n",
       "      <td>25</td>\n",
       "      <td>25</td>\n",
       "      <td>25</td>\n",
       "    </tr>\n",
       "    <tr>\n",
       "      <th>1878</th>\n",
       "      <td>59</td>\n",
       "      <td>59</td>\n",
       "      <td>59</td>\n",
       "      <td>59</td>\n",
       "      <td>59</td>\n",
       "      <td>59</td>\n",
       "      <td>59</td>\n",
       "      <td>59</td>\n",
       "      <td>59</td>\n",
       "    </tr>\n",
       "    <tr>\n",
       "      <th>1879</th>\n",
       "      <td>48</td>\n",
       "      <td>48</td>\n",
       "      <td>48</td>\n",
       "      <td>48</td>\n",
       "      <td>48</td>\n",
       "      <td>48</td>\n",
       "      <td>48</td>\n",
       "      <td>48</td>\n",
       "      <td>48</td>\n",
       "    </tr>\n",
       "    <tr>\n",
       "      <th>1880</th>\n",
       "      <td>35</td>\n",
       "      <td>35</td>\n",
       "      <td>35</td>\n",
       "      <td>35</td>\n",
       "      <td>35</td>\n",
       "      <td>35</td>\n",
       "      <td>35</td>\n",
       "      <td>35</td>\n",
       "      <td>35</td>\n",
       "    </tr>\n",
       "    <tr>\n",
       "      <th>1881</th>\n",
       "      <td>39</td>\n",
       "      <td>39</td>\n",
       "      <td>39</td>\n",
       "      <td>39</td>\n",
       "      <td>39</td>\n",
       "      <td>39</td>\n",
       "      <td>39</td>\n",
       "      <td>39</td>\n",
       "      <td>39</td>\n",
       "    </tr>\n",
       "    <tr>\n",
       "      <th>1882</th>\n",
       "      <td>70</td>\n",
       "      <td>70</td>\n",
       "      <td>70</td>\n",
       "      <td>70</td>\n",
       "      <td>70</td>\n",
       "      <td>70</td>\n",
       "      <td>70</td>\n",
       "      <td>70</td>\n",
       "      <td>70</td>\n",
       "    </tr>\n",
       "    <tr>\n",
       "      <th>1883</th>\n",
       "      <td>122</td>\n",
       "      <td>122</td>\n",
       "      <td>122</td>\n",
       "      <td>122</td>\n",
       "      <td>122</td>\n",
       "      <td>122</td>\n",
       "      <td>122</td>\n",
       "      <td>122</td>\n",
       "      <td>122</td>\n",
       "    </tr>\n",
       "    <tr>\n",
       "      <th>1884</th>\n",
       "      <td>81</td>\n",
       "      <td>81</td>\n",
       "      <td>81</td>\n",
       "      <td>81</td>\n",
       "      <td>81</td>\n",
       "      <td>81</td>\n",
       "      <td>81</td>\n",
       "      <td>81</td>\n",
       "      <td>81</td>\n",
       "    </tr>\n",
       "    <tr>\n",
       "      <th rowspan=\"16\" valign=\"top\">trein</th>\n",
       "      <th>1869</th>\n",
       "      <td>1513</td>\n",
       "      <td>1513</td>\n",
       "      <td>1513</td>\n",
       "      <td>1513</td>\n",
       "      <td>1513</td>\n",
       "      <td>1513</td>\n",
       "      <td>1513</td>\n",
       "      <td>1513</td>\n",
       "      <td>1513</td>\n",
       "    </tr>\n",
       "    <tr>\n",
       "      <th>1870</th>\n",
       "      <td>1895</td>\n",
       "      <td>1895</td>\n",
       "      <td>1895</td>\n",
       "      <td>1895</td>\n",
       "      <td>1895</td>\n",
       "      <td>1895</td>\n",
       "      <td>1895</td>\n",
       "      <td>1895</td>\n",
       "      <td>1895</td>\n",
       "    </tr>\n",
       "    <tr>\n",
       "      <th>1871</th>\n",
       "      <td>1875</td>\n",
       "      <td>1875</td>\n",
       "      <td>1875</td>\n",
       "      <td>1875</td>\n",
       "      <td>1875</td>\n",
       "      <td>1875</td>\n",
       "      <td>1875</td>\n",
       "      <td>1875</td>\n",
       "      <td>1875</td>\n",
       "    </tr>\n",
       "    <tr>\n",
       "      <th>1872</th>\n",
       "      <td>1967</td>\n",
       "      <td>1967</td>\n",
       "      <td>1967</td>\n",
       "      <td>1967</td>\n",
       "      <td>1967</td>\n",
       "      <td>1967</td>\n",
       "      <td>1967</td>\n",
       "      <td>1967</td>\n",
       "      <td>1967</td>\n",
       "    </tr>\n",
       "    <tr>\n",
       "      <th>1873</th>\n",
       "      <td>1904</td>\n",
       "      <td>1904</td>\n",
       "      <td>1904</td>\n",
       "      <td>1904</td>\n",
       "      <td>1904</td>\n",
       "      <td>1904</td>\n",
       "      <td>1904</td>\n",
       "      <td>1904</td>\n",
       "      <td>1904</td>\n",
       "    </tr>\n",
       "    <tr>\n",
       "      <th>1874</th>\n",
       "      <td>2489</td>\n",
       "      <td>2489</td>\n",
       "      <td>2489</td>\n",
       "      <td>2489</td>\n",
       "      <td>2489</td>\n",
       "      <td>2489</td>\n",
       "      <td>2489</td>\n",
       "      <td>2489</td>\n",
       "      <td>2489</td>\n",
       "    </tr>\n",
       "    <tr>\n",
       "      <th>1875</th>\n",
       "      <td>2524</td>\n",
       "      <td>2524</td>\n",
       "      <td>2524</td>\n",
       "      <td>2524</td>\n",
       "      <td>2524</td>\n",
       "      <td>2524</td>\n",
       "      <td>2524</td>\n",
       "      <td>2524</td>\n",
       "      <td>2524</td>\n",
       "    </tr>\n",
       "    <tr>\n",
       "      <th>1876</th>\n",
       "      <td>2532</td>\n",
       "      <td>2532</td>\n",
       "      <td>2532</td>\n",
       "      <td>2532</td>\n",
       "      <td>2532</td>\n",
       "      <td>2532</td>\n",
       "      <td>2532</td>\n",
       "      <td>2532</td>\n",
       "      <td>2532</td>\n",
       "    </tr>\n",
       "    <tr>\n",
       "      <th>1877</th>\n",
       "      <td>2476</td>\n",
       "      <td>2476</td>\n",
       "      <td>2476</td>\n",
       "      <td>2476</td>\n",
       "      <td>2476</td>\n",
       "      <td>2476</td>\n",
       "      <td>2476</td>\n",
       "      <td>2476</td>\n",
       "      <td>2476</td>\n",
       "    </tr>\n",
       "    <tr>\n",
       "      <th>1878</th>\n",
       "      <td>2733</td>\n",
       "      <td>2733</td>\n",
       "      <td>2733</td>\n",
       "      <td>2733</td>\n",
       "      <td>2733</td>\n",
       "      <td>2733</td>\n",
       "      <td>2733</td>\n",
       "      <td>2733</td>\n",
       "      <td>2733</td>\n",
       "    </tr>\n",
       "    <tr>\n",
       "      <th>1879</th>\n",
       "      <td>3110</td>\n",
       "      <td>3110</td>\n",
       "      <td>3110</td>\n",
       "      <td>3110</td>\n",
       "      <td>3110</td>\n",
       "      <td>3110</td>\n",
       "      <td>3110</td>\n",
       "      <td>3110</td>\n",
       "      <td>3110</td>\n",
       "    </tr>\n",
       "    <tr>\n",
       "      <th>1880</th>\n",
       "      <td>3276</td>\n",
       "      <td>3276</td>\n",
       "      <td>3276</td>\n",
       "      <td>3276</td>\n",
       "      <td>3276</td>\n",
       "      <td>3276</td>\n",
       "      <td>3276</td>\n",
       "      <td>3276</td>\n",
       "      <td>3276</td>\n",
       "    </tr>\n",
       "    <tr>\n",
       "      <th>1881</th>\n",
       "      <td>3668</td>\n",
       "      <td>3668</td>\n",
       "      <td>3668</td>\n",
       "      <td>3668</td>\n",
       "      <td>3668</td>\n",
       "      <td>3668</td>\n",
       "      <td>3668</td>\n",
       "      <td>3668</td>\n",
       "      <td>3668</td>\n",
       "    </tr>\n",
       "    <tr>\n",
       "      <th>1882</th>\n",
       "      <td>4285</td>\n",
       "      <td>4285</td>\n",
       "      <td>4285</td>\n",
       "      <td>4285</td>\n",
       "      <td>4285</td>\n",
       "      <td>4285</td>\n",
       "      <td>4285</td>\n",
       "      <td>4285</td>\n",
       "      <td>4285</td>\n",
       "    </tr>\n",
       "    <tr>\n",
       "      <th>1883</th>\n",
       "      <td>5052</td>\n",
       "      <td>5052</td>\n",
       "      <td>5052</td>\n",
       "      <td>5052</td>\n",
       "      <td>5052</td>\n",
       "      <td>5052</td>\n",
       "      <td>5052</td>\n",
       "      <td>5052</td>\n",
       "      <td>5052</td>\n",
       "    </tr>\n",
       "    <tr>\n",
       "      <th>1884</th>\n",
       "      <td>4793</td>\n",
       "      <td>4793</td>\n",
       "      <td>4793</td>\n",
       "      <td>4793</td>\n",
       "      <td>4793</td>\n",
       "      <td>4793</td>\n",
       "      <td>4793</td>\n",
       "      <td>4793</td>\n",
       "      <td>4793</td>\n",
       "    </tr>\n",
       "  </tbody>\n",
       "</table>\n",
       "</div>"
      ],
      "text/plain": [
       "               identifier  type  title  date  content  subcategory  DL score  \\\n",
       "category Year                                                                  \n",
       "fiets    1869         201   201    201   201      201          201       201   \n",
       "         1870          36    36     36    36       36           36        36   \n",
       "         1871          64    64     64    64       64           64        64   \n",
       "         1872          38    38     38    38       38           38        38   \n",
       "         1873          16    16     16    16       16           16        16   \n",
       "         1874          37    37     37    37       37           37        37   \n",
       "         1875          55    55     55    55       55           55        55   \n",
       "         1876          52    52     52    52       52           52        52   \n",
       "         1877          25    25     25    25       25           25        25   \n",
       "         1878          59    59     59    59       59           59        59   \n",
       "         1879          48    48     48    48       48           48        48   \n",
       "         1880          35    35     35    35       35           35        35   \n",
       "         1881          39    39     39    39       39           39        39   \n",
       "         1882          70    70     70    70       70           70        70   \n",
       "         1883         122   122    122   122      122          122       122   \n",
       "         1884          81    81     81    81       81           81        81   \n",
       "trein    1869        1513  1513   1513  1513     1513         1513      1513   \n",
       "         1870        1895  1895   1895  1895     1895         1895      1895   \n",
       "         1871        1875  1875   1875  1875     1875         1875      1875   \n",
       "         1872        1967  1967   1967  1967     1967         1967      1967   \n",
       "         1873        1904  1904   1904  1904     1904         1904      1904   \n",
       "         1874        2489  2489   2489  2489     2489         2489      2489   \n",
       "         1875        2524  2524   2524  2524     2524         2524      2524   \n",
       "         1876        2532  2532   2532  2532     2532         2532      2532   \n",
       "         1877        2476  2476   2476  2476     2476         2476      2476   \n",
       "         1878        2733  2733   2733  2733     2733         2733      2733   \n",
       "         1879        3110  3110   3110  3110     3110         3110      3110   \n",
       "         1880        3276  3276   3276  3276     3276         3276      3276   \n",
       "         1881        3668  3668   3668  3668     3668         3668      3668   \n",
       "         1882        4285  4285   4285  4285     4285         4285      4285   \n",
       "         1883        5052  5052   5052  5052     5052         5052      5052   \n",
       "         1884        4793  4793   4793  4793     4793         4793      4793   \n",
       "\n",
       "               Length  spatial  \n",
       "category Year                   \n",
       "fiets    1869     201      201  \n",
       "         1870      36       36  \n",
       "         1871      64       64  \n",
       "         1872      38       38  \n",
       "         1873      16       16  \n",
       "         1874      37       37  \n",
       "         1875      55       55  \n",
       "         1876      52       52  \n",
       "         1877      25       25  \n",
       "         1878      59       59  \n",
       "         1879      48       48  \n",
       "         1880      35       35  \n",
       "         1881      39       39  \n",
       "         1882      70       70  \n",
       "         1883     122      122  \n",
       "         1884      81       81  \n",
       "trein    1869    1513     1513  \n",
       "         1870    1895     1895  \n",
       "         1871    1875     1875  \n",
       "         1872    1967     1967  \n",
       "         1873    1904     1904  \n",
       "         1874    2489     2489  \n",
       "         1875    2524     2524  \n",
       "         1876    2532     2532  \n",
       "         1877    2476     2476  \n",
       "         1878    2733     2733  \n",
       "         1879    3110     3110  \n",
       "         1880    3276     3276  \n",
       "         1881    3668     3668  \n",
       "         1882    4285     4285  \n",
       "         1883    5052     5052  \n",
       "         1884    4793     4793  "
      ]
     },
     "execution_count": 65,
     "metadata": {},
     "output_type": "execute_result"
    }
   ],
   "source": [
    "test.groupby(['category', 'Year']).count()"
   ]
  },
  {
   "cell_type": "code",
   "execution_count": null,
   "id": "f447c062",
   "metadata": {},
   "outputs": [],
   "source": []
  },
  {
   "cell_type": "code",
   "execution_count": 23,
   "id": "95ba16cc",
   "metadata": {},
   "outputs": [],
   "source": [
    "trein = pd.read_csv('data/trein_total.csv', index_col = 0)"
   ]
  },
  {
   "cell_type": "code",
   "execution_count": 24,
   "id": "e058189b",
   "metadata": {},
   "outputs": [],
   "source": [
    "trein = trein[trein['Year'] > 1850]"
   ]
  },
  {
   "cell_type": "code",
   "execution_count": 25,
   "id": "f85664d4",
   "metadata": {},
   "outputs": [],
   "source": [
    "fiets = pd.read_csv('data/fiets_total.csv', index_col = 0)"
   ]
  },
  {
   "cell_type": "code",
   "execution_count": 26,
   "id": "018a482c",
   "metadata": {},
   "outputs": [],
   "source": [
    "fiets = fiets [fiets ['Year'] > 1850]"
   ]
  },
  {
   "cell_type": "code",
   "execution_count": 27,
   "id": "5d4ecb25",
   "metadata": {},
   "outputs": [],
   "source": [
    "data = pd.concat([trein, fiets])"
   ]
  },
  {
   "cell_type": "code",
   "execution_count": 39,
   "id": "f2cd29a3",
   "metadata": {},
   "outputs": [],
   "source": [
    "df_cleaned.to_csv('data/data.csv')"
   ]
  },
  {
   "cell_type": "code",
   "execution_count": 38,
   "id": "844558fa",
   "metadata": {},
   "outputs": [],
   "source": [
    "df_cleaned = data.drop_duplicates(subset=[\"identifier\"], keep=False)"
   ]
  },
  {
   "cell_type": "code",
   "execution_count": 33,
   "id": "438c826d",
   "metadata": {},
   "outputs": [
    {
     "data": {
      "text/plain": [
       "88023"
      ]
     },
     "execution_count": 33,
     "metadata": {},
     "output_type": "execute_result"
    }
   ],
   "source": [
    "len(data)"
   ]
  },
  {
   "cell_type": "code",
   "execution_count": 34,
   "id": "2346fa0e",
   "metadata": {},
   "outputs": [
    {
     "data": {
      "text/plain": [
       "87069"
      ]
     },
     "execution_count": 34,
     "metadata": {},
     "output_type": "execute_result"
    }
   ],
   "source": [
    "len(df_cleaned)"
   ]
  },
  {
   "cell_type": "code",
   "execution_count": 35,
   "id": "b7c7c838",
   "metadata": {},
   "outputs": [
    {
     "data": {
      "text/plain": [
       "87069"
      ]
     },
     "execution_count": 35,
     "metadata": {},
     "output_type": "execute_result"
    }
   ],
   "source": [
    "df_cleaned['identifier'].nunique()"
   ]
  },
  {
   "cell_type": "code",
   "execution_count": 31,
   "id": "d5c2d258",
   "metadata": {},
   "outputs": [
    {
     "data": {
      "text/plain": [
       "87546"
      ]
     },
     "execution_count": 31,
     "metadata": {},
     "output_type": "execute_result"
    }
   ],
   "source": [
    "data['identifier'].nunique()"
   ]
  },
  {
   "cell_type": "code",
   "execution_count": 44,
   "id": "71a98818",
   "metadata": {},
   "outputs": [],
   "source": [
    "fiets = data[data['category'] == 'fiets']"
   ]
  },
  {
   "cell_type": "code",
   "execution_count": 46,
   "id": "b04500de",
   "metadata": {},
   "outputs": [
    {
     "data": {
      "text/plain": [
       "<AxesSubplot:xlabel='Year'>"
      ]
     },
     "execution_count": 46,
     "metadata": {},
     "output_type": "execute_result"
    },
    {
     "data": {
      "image/png": "[encoded data removed]",
      "text/plain": [
       "<Figure size 432x288 with 1 Axes>"
      ]
     },
     "metadata": {
      "needs_background": "light"
     },
     "output_type": "display_data"
    }
   ],
   "source": [
    "pd.crosstab(index=fiets['Year'], columns=fiets['type']).plot.bar(stacked = True)"
   ]
  },
  {
   "cell_type": "markdown",
   "id": "22bebf95",
   "metadata": {},
   "source": [
    "Kijken wat we hebben en hoeveel"
   ]
  },
  {
   "cell_type": "code",
   "execution_count": 6,
   "id": "75e2537f",
   "metadata": {},
   "outputs": [
    {
     "data": {
      "text/html": [
       "<div>\n",
       "<style scoped>\n",
       "    .dataframe tbody tr th:only-of-type {\n",
       "        vertical-align: middle;\n",
       "    }\n",
       "\n",
       "    .dataframe tbody tr th {\n",
       "        vertical-align: top;\n",
       "    }\n",
       "\n",
       "    .dataframe thead th {\n",
       "        text-align: right;\n",
       "    }\n",
       "</style>\n",
       "<table border=\"1\" class=\"dataframe\">\n",
       "  <thead>\n",
       "    <tr style=\"text-align: right;\">\n",
       "      <th></th>\n",
       "      <th>identifier</th>\n",
       "      <th>type</th>\n",
       "      <th>title</th>\n",
       "      <th>date</th>\n",
       "      <th>content</th>\n",
       "      <th>subcategory</th>\n",
       "      <th>category</th>\n",
       "      <th>Year</th>\n",
       "      <th>DL score</th>\n",
       "      <th>Length</th>\n",
       "      <th>spatial</th>\n",
       "    </tr>\n",
       "  </thead>\n",
       "  <tbody>\n",
       "    <tr>\n",
       "      <th>4</th>\n",
       "      <td>http://resolver.kb.nl/resolve?urn=ddd:01106720...</td>\n",
       "      <td>artikel</td>\n",
       "      <td>Omtrent het bekende spoorwegongeval op den</td>\n",
       "      <td>1879/09/24 00:00:00</td>\n",
       "      <td>Omtrent het bekende spoorwegongeval op den Rgn...</td>\n",
       "      <td>trein</td>\n",
       "      <td>trein</td>\n",
       "      <td>1879</td>\n",
       "      <td>74.285714</td>\n",
       "      <td>245</td>\n",
       "      <td>Landelijk</td>\n",
       "    </tr>\n",
       "    <tr>\n",
       "      <th>6</th>\n",
       "      <td>http://resolver.kb.nl/resolve?urn=ddd:01106812...</td>\n",
       "      <td>artikel</td>\n",
       "      <td>Winterdienst.</td>\n",
       "      <td>1882/10/12 00:00:00</td>\n",
       "      <td>De Winterdienst op de lijnen van de Hollandsch...</td>\n",
       "      <td>trein</td>\n",
       "      <td>trein</td>\n",
       "      <td>1882</td>\n",
       "      <td>74.048443</td>\n",
       "      <td>289</td>\n",
       "      <td>Landelijk</td>\n",
       "    </tr>\n",
       "  </tbody>\n",
       "</table>\n",
       "</div>"
      ],
      "text/plain": [
       "                                          identifier     type  \\\n",
       "4  http://resolver.kb.nl/resolve?urn=ddd:01106720...  artikel   \n",
       "6  http://resolver.kb.nl/resolve?urn=ddd:01106812...  artikel   \n",
       "\n",
       "                                        title                 date  \\\n",
       "4  Omtrent het bekende spoorwegongeval op den  1879/09/24 00:00:00   \n",
       "6                               Winterdienst.  1882/10/12 00:00:00   \n",
       "\n",
       "                                             content subcategory category  \\\n",
       "4  Omtrent het bekende spoorwegongeval op den Rgn...       trein    trein   \n",
       "6  De Winterdienst op de lijnen van de Hollandsch...       trein    trein   \n",
       "\n",
       "   Year   DL score  Length    spatial  \n",
       "4  1879  74.285714     245  Landelijk  \n",
       "6  1882  74.048443     289  Landelijk  "
      ]
     },
     "execution_count": 6,
     "metadata": {},
     "output_type": "execute_result"
    }
   ],
   "source": [
    "trein.head(2)"
   ]
  },
  {
   "cell_type": "code",
   "execution_count": 8,
   "id": "26d308a1",
   "metadata": {},
   "outputs": [
    {
     "data": {
      "text/plain": [
       "84717"
      ]
     },
     "execution_count": 8,
     "metadata": {},
     "output_type": "execute_result"
    }
   ],
   "source": [
    "len(trein)"
   ]
  },
  {
   "cell_type": "code",
   "execution_count": 14,
   "id": "12ef8c74",
   "metadata": {},
   "outputs": [
    {
     "data": {
      "text/plain": [
       "84717"
      ]
     },
     "execution_count": 14,
     "metadata": {},
     "output_type": "execute_result"
    }
   ],
   "source": [
    "trein['identifier'].nunique()"
   ]
  },
  {
   "cell_type": "code",
   "execution_count": 15,
   "id": "a0bccf18",
   "metadata": {},
   "outputs": [
    {
     "data": {
      "text/html": [
       "<div>\n",
       "<style scoped>\n",
       "    .dataframe tbody tr th:only-of-type {\n",
       "        vertical-align: middle;\n",
       "    }\n",
       "\n",
       "    .dataframe tbody tr th {\n",
       "        vertical-align: top;\n",
       "    }\n",
       "\n",
       "    .dataframe thead th {\n",
       "        text-align: right;\n",
       "    }\n",
       "</style>\n",
       "<table border=\"1\" class=\"dataframe\">\n",
       "  <thead>\n",
       "    <tr style=\"text-align: right;\">\n",
       "      <th></th>\n",
       "      <th>identifier</th>\n",
       "      <th>type</th>\n",
       "      <th>title</th>\n",
       "      <th>date</th>\n",
       "      <th>content</th>\n",
       "      <th>subcategory</th>\n",
       "      <th>category</th>\n",
       "      <th>Year</th>\n",
       "      <th>DL score</th>\n",
       "      <th>Length</th>\n",
       "      <th>spatial</th>\n",
       "    </tr>\n",
       "  </thead>\n",
       "  <tbody>\n",
       "    <tr>\n",
       "      <th>2</th>\n",
       "      <td>http://resolver.kb.nl/resolve?urn=ddd:01026608...</td>\n",
       "      <td>artikel</td>\n",
       "      <td>ANTWERPEN, 5 Dec.</td>\n",
       "      <td>1881/12/07 00:00:00</td>\n",
       "      <td>Tarwe stil maar ferm gesouteneerd; roode Ameri...</td>\n",
       "      <td>fiets</td>\n",
       "      <td>fiets</td>\n",
       "      <td>1881</td>\n",
       "      <td>49.624060</td>\n",
       "      <td>133</td>\n",
       "      <td>Landelijk</td>\n",
       "    </tr>\n",
       "    <tr>\n",
       "      <th>9</th>\n",
       "      <td>http://resolver.kb.nl/resolve?urn=ddd:01026305...</td>\n",
       "      <td>advertentie</td>\n",
       "      <td>Advertentie</td>\n",
       "      <td>1870/05/19 00:00:00</td>\n",
       "      <td>MANUFACTUREN. Een K. HL. Jongeling* 20jaren ou...</td>\n",
       "      <td>fiets</td>\n",
       "      <td>fiets</td>\n",
       "      <td>1870</td>\n",
       "      <td>56.338028</td>\n",
       "      <td>71</td>\n",
       "      <td>Landelijk</td>\n",
       "    </tr>\n",
       "  </tbody>\n",
       "</table>\n",
       "</div>"
      ],
      "text/plain": [
       "                                          identifier         type  \\\n",
       "2  http://resolver.kb.nl/resolve?urn=ddd:01026608...      artikel   \n",
       "9  http://resolver.kb.nl/resolve?urn=ddd:01026305...  advertentie   \n",
       "\n",
       "               title                 date  \\\n",
       "2  ANTWERPEN, 5 Dec.  1881/12/07 00:00:00   \n",
       "9        Advertentie  1870/05/19 00:00:00   \n",
       "\n",
       "                                             content subcategory category  \\\n",
       "2  Tarwe stil maar ferm gesouteneerd; roode Ameri...       fiets    fiets   \n",
       "9  MANUFACTUREN. Een K. HL. Jongeling* 20jaren ou...       fiets    fiets   \n",
       "\n",
       "   Year   DL score  Length    spatial  \n",
       "2  1881  49.624060     133  Landelijk  \n",
       "9  1870  56.338028      71  Landelijk  "
      ]
     },
     "execution_count": 15,
     "metadata": {},
     "output_type": "execute_result"
    }
   ],
   "source": [
    "fiets.head(2)"
   ]
  },
  {
   "cell_type": "code",
   "execution_count": 17,
   "id": "bdacc163",
   "metadata": {},
   "outputs": [
    {
     "data": {
      "text/plain": [
       "3306"
      ]
     },
     "execution_count": 17,
     "metadata": {},
     "output_type": "execute_result"
    }
   ],
   "source": [
    "len(fiets)"
   ]
  },
  {
   "cell_type": "code",
   "execution_count": 18,
   "id": "5c48e190",
   "metadata": {},
   "outputs": [
    {
     "data": {
      "text/plain": [
       "3306"
      ]
     },
     "execution_count": 18,
     "metadata": {},
     "output_type": "execute_result"
    }
   ],
   "source": [
    "fiets['identifier'].nunique()"
   ]
  },
  {
   "cell_type": "code",
   "execution_count": 39,
   "id": "5959aa09",
   "metadata": {},
   "outputs": [
    {
     "data": {
      "text/plain": [
       "array(['artikel', 'advertentie', 'familiebericht'], dtype=object)"
      ]
     },
     "execution_count": 39,
     "metadata": {},
     "output_type": "execute_result"
    }
   ],
   "source": [
    "trein.type.unique()"
   ]
  },
  {
   "cell_type": "code",
   "execution_count": 40,
   "id": "11997e67",
   "metadata": {},
   "outputs": [
    {
     "data": {
      "text/plain": [
       "array(['artikel', 'advertentie', 'familiebericht'], dtype=object)"
      ]
     },
     "execution_count": 40,
     "metadata": {},
     "output_type": "execute_result"
    }
   ],
   "source": [
    "fiets.type.unique()"
   ]
  },
  {
   "cell_type": "code",
   "execution_count": 41,
   "id": "fe14c319",
   "metadata": {},
   "outputs": [
    {
     "data": {
      "text/plain": [
       "array(['trein', 'locomotief', 'lokomotief'], dtype=object)"
      ]
     },
     "execution_count": 41,
     "metadata": {},
     "output_type": "execute_result"
    }
   ],
   "source": [
    "trein.subcategory.unique()"
   ]
  },
  {
   "cell_type": "code",
   "execution_count": 42,
   "id": "5815fe52",
   "metadata": {},
   "outputs": [
    {
     "data": {
      "text/plain": [
       "array(['fiets', 'rijwiel', 'velocipede', 'tweewieler'], dtype=object)"
      ]
     },
     "execution_count": 42,
     "metadata": {},
     "output_type": "execute_result"
    }
   ],
   "source": [
    "fiets.subcategory.unique()"
   ]
  },
  {
   "cell_type": "markdown",
   "id": "31f3736c",
   "metadata": {},
   "source": [
    "Kijken in welke subcategoriën er zijn in beide sets, met value_counts en een plot <br>\n",
    "Les ofzo: altijd kijken voor verschillende/historische termen "
   ]
  },
  {
   "cell_type": "code",
   "execution_count": 43,
   "id": "49858bc3",
   "metadata": {},
   "outputs": [
    {
     "data": {
      "text/plain": [
       "<AxesSubplot:>"
      ]
     },
     "execution_count": 43,
     "metadata": {},
     "output_type": "execute_result"
    },
    {
     "data": {
      "image/png": "[encoded data removed]",
      "text/plain": [
       "<Figure size 432x288 with 1 Axes>"
      ]
     },
     "metadata": {
      "needs_background": "light"
     },
     "output_type": "display_data"
    }
   ],
   "source": [
    "fiets_subcat = fiets.subcategory.value_counts()\n",
    "fiets_subcat.plot(kind = 'barh' )"
   ]
  },
  {
   "cell_type": "code",
   "execution_count": 44,
   "id": "0ae58418",
   "metadata": {},
   "outputs": [
    {
     "data": {
      "text/plain": [
       "<AxesSubplot:>"
      ]
     },
     "execution_count": 44,
     "metadata": {},
     "output_type": "execute_result"
    },
    {
     "data": {
      "image/png": "[encoded data removed]",
      "text/plain": [
       "<Figure size 432x288 with 1 Axes>"
      ]
     },
     "metadata": {
      "needs_background": "light"
     },
     "output_type": "display_data"
    }
   ],
   "source": [
    "trein_subcat = trein.subcategory.value_counts()\n",
    "trein_subcat.plot(kind = 'barh' )"
   ]
  },
  {
   "cell_type": "markdown",
   "id": "b3b58842",
   "metadata": {},
   "source": [
    "Zowel artikelen als advertenties, kijken naar de hoeveelheden: "
   ]
  },
  {
   "cell_type": "code",
   "execution_count": 45,
   "id": "6a3a0bf6",
   "metadata": {},
   "outputs": [
    {
     "data": {
      "text/plain": [
       "<AxesSubplot:>"
      ]
     },
     "execution_count": 45,
     "metadata": {},
     "output_type": "execute_result"
    },
    {
     "data": {
      "image/png": "[encoded data removed]",
      "text/plain": [
       "<Figure size 432x288 with 1 Axes>"
      ]
     },
     "metadata": {
      "needs_background": "light"
     },
     "output_type": "display_data"
    }
   ],
   "source": [
    "fiets_type = fiets.type.value_counts()\n",
    "fiets_type.plot(kind = 'barh' )"
   ]
  },
  {
   "cell_type": "markdown",
   "id": "1a68f615",
   "metadata": {},
   "source": [
    "**zelf doen**: zelfde opgave voor trein"
   ]
  },
  {
   "cell_type": "code",
   "execution_count": 46,
   "id": "69fb87b1",
   "metadata": {},
   "outputs": [
    {
     "data": {
      "text/plain": [
       "<AxesSubplot:>"
      ]
     },
     "execution_count": 46,
     "metadata": {},
     "output_type": "execute_result"
    },
    {
     "data": {
      "image/png": "[encoded data removed]",
      "text/plain": [
       "<Figure size 432x288 with 1 Axes>"
      ]
     },
     "metadata": {
      "needs_background": "light"
     },
     "output_type": "display_data"
    }
   ],
   "source": [
    "trein_type = trein.type.value_counts()\n",
    "trein_type.plot(kind = 'barh' )"
   ]
  },
  {
   "cell_type": "markdown",
   "id": "8b4835c8",
   "metadata": {},
   "source": [
    "Wat zie je: bij fiets in verhouding veel meer advertenties dan bij trein"
   ]
  },
  {
   "cell_type": "markdown",
   "id": "5a8eaceb",
   "metadata": {},
   "source": [
    "Laten we eens kijken naar de spreiding over de jaren van beide categorien"
   ]
  },
  {
   "cell_type": "code",
   "execution_count": 47,
   "id": "8a1a7f6e",
   "metadata": {},
   "outputs": [
    {
     "data": {
      "text/plain": [
       "<AxesSubplot:>"
      ]
     },
     "execution_count": 47,
     "metadata": {},
     "output_type": "execute_result"
    },
    {
     "data": {
      "image/png": "[encoded data removed]",
      "text/plain": [
       "<Figure size 1440x720 with 1 Axes>"
      ]
     },
     "metadata": {
      "needs_background": "light"
     },
     "output_type": "display_data"
    }
   ],
   "source": [
    "fiets.Year.value_counts().plot(kind = 'bar', figsize = (20,10))"
   ]
  },
  {
   "cell_type": "code",
   "execution_count": 49,
   "id": "6ab33249",
   "metadata": {},
   "outputs": [
    {
     "data": {
      "text/plain": [
       "<AxesSubplot:xlabel='index'>"
      ]
     },
     "execution_count": 49,
     "metadata": {},
     "output_type": "execute_result"
    },
    {
     "data": {
      "image/png": "[encoded data removed]",
      "text/plain": [
       "<Figure size 1440x720 with 1 Axes>"
      ]
     },
     "metadata": {
      "needs_background": "light"
     },
     "output_type": "display_data"
    }
   ],
   "source": [
    "fiets.Year.value_counts().reset_index().sort_values(by = 'index').plot(kind = 'bar', x = 'index', y = 'Year', figsize = (20,10))"
   ]
  },
  {
   "cell_type": "code",
   "execution_count": 50,
   "id": "cdd8f1cb",
   "metadata": {},
   "outputs": [
    {
     "data": {
      "text/plain": [
       "<AxesSubplot:xlabel='index'>"
      ]
     },
     "execution_count": 50,
     "metadata": {},
     "output_type": "execute_result"
    },
    {
     "data": {
      "image/png": "[encoded data removed]",
      "text/plain": [
       "<Figure size 1440x720 with 1 Axes>"
      ]
     },
     "metadata": {
      "needs_background": "light"
     },
     "output_type": "display_data"
    }
   ],
   "source": [
    "trein.Year.value_counts().reset_index().sort_values(by = 'index').plot(kind = 'bar', x = 'index', y = 'Year', figsize = (20,10))"
   ]
  },
  {
   "cell_type": "markdown",
   "id": "7ff3baa0",
   "metadata": {},
   "source": [
    "Nu beide dataframes samenvoegen voor wat verdere statistieken"
   ]
  },
  {
   "cell_type": "code",
   "execution_count": 19,
   "id": "6133e6c1",
   "metadata": {},
   "outputs": [],
   "source": [
    "data = pd.concat([trein, fiets])"
   ]
  },
  {
   "cell_type": "code",
   "execution_count": 20,
   "id": "d3b2b064",
   "metadata": {},
   "outputs": [
    {
     "data": {
      "text/html": [
       "<div>\n",
       "<style scoped>\n",
       "    .dataframe tbody tr th:only-of-type {\n",
       "        vertical-align: middle;\n",
       "    }\n",
       "\n",
       "    .dataframe tbody tr th {\n",
       "        vertical-align: top;\n",
       "    }\n",
       "\n",
       "    .dataframe thead th {\n",
       "        text-align: right;\n",
       "    }\n",
       "</style>\n",
       "<table border=\"1\" class=\"dataframe\">\n",
       "  <thead>\n",
       "    <tr style=\"text-align: right;\">\n",
       "      <th></th>\n",
       "      <th>identifier</th>\n",
       "      <th>type</th>\n",
       "      <th>title</th>\n",
       "      <th>date</th>\n",
       "      <th>content</th>\n",
       "      <th>subcategory</th>\n",
       "      <th>category</th>\n",
       "      <th>Year</th>\n",
       "      <th>DL score</th>\n",
       "      <th>Length</th>\n",
       "      <th>spatial</th>\n",
       "    </tr>\n",
       "  </thead>\n",
       "  <tbody>\n",
       "    <tr>\n",
       "      <th>4</th>\n",
       "      <td>http://resolver.kb.nl/resolve?urn=ddd:01106720...</td>\n",
       "      <td>artikel</td>\n",
       "      <td>Omtrent het bekende spoorwegongeval op den</td>\n",
       "      <td>1879/09/24 00:00:00</td>\n",
       "      <td>Omtrent het bekende spoorwegongeval op den Rgn...</td>\n",
       "      <td>trein</td>\n",
       "      <td>trein</td>\n",
       "      <td>1879</td>\n",
       "      <td>74.285714</td>\n",
       "      <td>245</td>\n",
       "      <td>Landelijk</td>\n",
       "    </tr>\n",
       "    <tr>\n",
       "      <th>6</th>\n",
       "      <td>http://resolver.kb.nl/resolve?urn=ddd:01106812...</td>\n",
       "      <td>artikel</td>\n",
       "      <td>Winterdienst.</td>\n",
       "      <td>1882/10/12 00:00:00</td>\n",
       "      <td>De Winterdienst op de lijnen van de Hollandsch...</td>\n",
       "      <td>trein</td>\n",
       "      <td>trein</td>\n",
       "      <td>1882</td>\n",
       "      <td>74.048443</td>\n",
       "      <td>289</td>\n",
       "      <td>Landelijk</td>\n",
       "    </tr>\n",
       "  </tbody>\n",
       "</table>\n",
       "</div>"
      ],
      "text/plain": [
       "                                          identifier     type  \\\n",
       "4  http://resolver.kb.nl/resolve?urn=ddd:01106720...  artikel   \n",
       "6  http://resolver.kb.nl/resolve?urn=ddd:01106812...  artikel   \n",
       "\n",
       "                                        title                 date  \\\n",
       "4  Omtrent het bekende spoorwegongeval op den  1879/09/24 00:00:00   \n",
       "6                               Winterdienst.  1882/10/12 00:00:00   \n",
       "\n",
       "                                             content subcategory category  \\\n",
       "4  Omtrent het bekende spoorwegongeval op den Rgn...       trein    trein   \n",
       "6  De Winterdienst op de lijnen van de Hollandsch...       trein    trein   \n",
       "\n",
       "   Year   DL score  Length    spatial  \n",
       "4  1879  74.285714     245  Landelijk  \n",
       "6  1882  74.048443     289  Landelijk  "
      ]
     },
     "execution_count": 20,
     "metadata": {},
     "output_type": "execute_result"
    }
   ],
   "source": [
    "data.head(2)"
   ]
  },
  {
   "cell_type": "code",
   "execution_count": 21,
   "id": "a30a57f8",
   "metadata": {},
   "outputs": [
    {
     "data": {
      "text/plain": [
       "88023"
      ]
     },
     "execution_count": 21,
     "metadata": {},
     "output_type": "execute_result"
    }
   ],
   "source": [
    "len(data)"
   ]
  },
  {
   "cell_type": "code",
   "execution_count": 22,
   "id": "ba83a974",
   "metadata": {},
   "outputs": [
    {
     "data": {
      "text/plain": [
       "87546"
      ]
     },
     "execution_count": 22,
     "metadata": {},
     "output_type": "execute_result"
    }
   ],
   "source": [
    "data['identifier'].nunique()"
   ]
  },
  {
   "cell_type": "markdown",
   "id": "30522857",
   "metadata": {},
   "source": [
    "Uit de plots hierboven lijkt het erop dat er veel meer berichten zijn over treinen dan over fietsen. Laten we dit eens in een piechart bekijken. "
   ]
  },
  {
   "cell_type": "code",
   "execution_count": 53,
   "id": "39f3f879",
   "metadata": {},
   "outputs": [
    {
     "data": {
      "text/plain": [
       "<AxesSubplot:ylabel='category'>"
      ]
     },
     "execution_count": 53,
     "metadata": {},
     "output_type": "execute_result"
    },
    {
     "data": {
      "image/png": "[encoded data removed]",
      "text/plain": [
       "<Figure size 432x288 with 1 Axes>"
      ]
     },
     "metadata": {},
     "output_type": "display_data"
    }
   ],
   "source": [
    "data.category.value_counts().plot(kind = 'pie')"
   ]
  },
  {
   "cell_type": "markdown",
   "id": "ac3a9169",
   "metadata": {},
   "source": [
    "Zo te zien is dat inderdaad het geval. "
   ]
  },
  {
   "cell_type": "markdown",
   "id": "d3cdd34b",
   "metadata": {},
   "source": [
    "Zoals hier boven gezien hebben fietsen in verhouding veel meer advertenties dan treinen. Laten we deze verschillen ook eens bekijk in een piechart."
   ]
  },
  {
   "cell_type": "code",
   "execution_count": 54,
   "id": "dbba3855",
   "metadata": {},
   "outputs": [
    {
     "data": {
      "text/plain": [
       "<AxesSubplot:ylabel='category'>"
      ]
     },
     "execution_count": 54,
     "metadata": {},
     "output_type": "execute_result"
    },
    {
     "data": {
      "image/png": "[encoded data removed]",
      "text/plain": [
       "<Figure size 432x288 with 1 Axes>"
      ]
     },
     "metadata": {},
     "output_type": "display_data"
    }
   ],
   "source": [
    "data[data['type'] == 'artikel'].category.value_counts().plot(kind = 'pie')"
   ]
  },
  {
   "cell_type": "code",
   "execution_count": 55,
   "id": "362bcd2e",
   "metadata": {},
   "outputs": [
    {
     "data": {
      "text/plain": [
       "<AxesSubplot:ylabel='category'>"
      ]
     },
     "execution_count": 55,
     "metadata": {},
     "output_type": "execute_result"
    },
    {
     "data": {
      "image/png": "[encoded data removed]",
      "text/plain": [
       "<Figure size 432x288 with 1 Axes>"
      ]
     },
     "metadata": {},
     "output_type": "display_data"
    }
   ],
   "source": [
    "data[data['type'] == 'advertentie'].category.value_counts().plot(kind = 'pie')"
   ]
  },
  {
   "cell_type": "markdown",
   "id": "5411bd0c",
   "metadata": {},
   "source": [
    "# Nog iets met landelijk / regionaal en lokaal"
   ]
  },
  {
   "cell_type": "code",
   "execution_count": 56,
   "id": "d9b40951",
   "metadata": {},
   "outputs": [
    {
     "data": {
      "text/plain": [
       "761.0"
      ]
     },
     "execution_count": 56,
     "metadata": {},
     "output_type": "execute_result"
    }
   ],
   "source": [
    "data[data['category'] == 'fiets' ]['Length'].median()"
   ]
  },
  {
   "cell_type": "code",
   "execution_count": 57,
   "id": "5bd6de86",
   "metadata": {},
   "outputs": [
    {
     "data": {
      "text/plain": [
       "1118.0"
      ]
     },
     "execution_count": 57,
     "metadata": {},
     "output_type": "execute_result"
    }
   ],
   "source": [
    "data[data['category'] == 'trein']['Length'].median()"
   ]
  },
  {
   "cell_type": "code",
   "execution_count": 58,
   "id": "1d5a7821",
   "metadata": {},
   "outputs": [
    {
     "data": {
      "text/plain": [
       "1394.0"
      ]
     },
     "execution_count": 58,
     "metadata": {},
     "output_type": "execute_result"
    }
   ],
   "source": [
    "data[(data['category'] == 'fiets') & (data['type'] == 'artikel') ]['Length'].median()"
   ]
  },
  {
   "cell_type": "code",
   "execution_count": 59,
   "id": "ec5109fd",
   "metadata": {},
   "outputs": [
    {
     "data": {
      "text/plain": [
       "1360.0"
      ]
     },
     "execution_count": 59,
     "metadata": {},
     "output_type": "execute_result"
    }
   ],
   "source": [
    "data[(data['category'] == 'trein') & (data['type'] == 'artikel') ]['Length'].median()"
   ]
  },
  {
   "cell_type": "code",
   "execution_count": 60,
   "id": "c9805558",
   "metadata": {},
   "outputs": [
    {
     "data": {
      "text/plain": [
       "8"
      ]
     },
     "execution_count": 60,
     "metadata": {},
     "output_type": "execute_result"
    }
   ],
   "source": [
    "min(data[data['category'] == 'fiets' ]['Length'])"
   ]
  },
  {
   "cell_type": "code",
   "execution_count": 61,
   "id": "b1bb1032",
   "metadata": {},
   "outputs": [
    {
     "data": {
      "text/plain": [
       "13933"
      ]
     },
     "execution_count": 61,
     "metadata": {},
     "output_type": "execute_result"
    }
   ],
   "source": [
    "max(data[data['category'] == 'fiets' ]['Length'])"
   ]
  },
  {
   "cell_type": "code",
   "execution_count": 62,
   "id": "f19e3859",
   "metadata": {},
   "outputs": [
    {
     "data": {
      "text/plain": [
       "<AxesSubplot:>"
      ]
     },
     "execution_count": 62,
     "metadata": {},
     "output_type": "execute_result"
    },
    {
     "data": {
      "image/png": "[encoded data removed]",
      "text/plain": [
       "<Figure size 432x288 with 1 Axes>"
      ]
     },
     "metadata": {
      "needs_background": "light"
     },
     "output_type": "display_data"
    }
   ],
   "source": [
    "data[data['category'] == 'fiets' ]['Length'].plot(kind = 'box')"
   ]
  },
  {
   "cell_type": "code",
   "execution_count": 63,
   "id": "8adcb208",
   "metadata": {},
   "outputs": [
    {
     "data": {
      "text/plain": [
       "<AxesSubplot:>"
      ]
     },
     "execution_count": 63,
     "metadata": {},
     "output_type": "execute_result"
    },
    {
     "data": {
      "image/png": "[encoded data removed]",
      "text/plain": [
       "<Figure size 432x288 with 1 Axes>"
      ]
     },
     "metadata": {
      "needs_background": "light"
     },
     "output_type": "display_data"
    }
   ],
   "source": [
    "data[data['category'] == 'trein' ]['Length'].plot(kind = 'box')"
   ]
  },
  {
   "cell_type": "code",
   "execution_count": 67,
   "id": "8da26b1d",
   "metadata": {},
   "outputs": [
    {
     "data": {
      "text/plain": [
       "87063"
      ]
     },
     "execution_count": 67,
     "metadata": {},
     "output_type": "execute_result"
    }
   ],
   "source": [
    "len(data)"
   ]
  },
  {
   "cell_type": "code",
   "execution_count": 71,
   "id": "a294a947",
   "metadata": {},
   "outputs": [
    {
     "data": {
      "text/plain": [
       "66462"
      ]
     },
     "execution_count": 71,
     "metadata": {},
     "output_type": "execute_result"
    }
   ],
   "source": [
    "len(data[data['Length'] < 2200])"
   ]
  },
  {
   "cell_type": "code",
   "execution_count": 73,
   "id": "a757e399",
   "metadata": {},
   "outputs": [],
   "source": [
    "data2 = data[data['Length'] < 2200]"
   ]
  },
  {
   "cell_type": "code",
   "execution_count": 74,
   "id": "08be8ee2",
   "metadata": {},
   "outputs": [],
   "source": [
    "data2.to_csv('data/data2.csv')"
   ]
  },
  {
   "cell_type": "code",
   "execution_count": 76,
   "id": "0f09efa9",
   "metadata": {},
   "outputs": [
    {
     "data": {
      "text/plain": [
       "89.28571428571429"
      ]
     },
     "execution_count": 76,
     "metadata": {},
     "output_type": "execute_result"
    }
   ],
   "source": [
    "data2['DL score'].max()"
   ]
  },
  {
   "cell_type": "code",
   "execution_count": 70,
   "id": "61d5c7c0",
   "metadata": {},
   "outputs": [
    {
     "data": {
      "text/plain": [
       "count    87063.000000\n",
       "mean      1477.855174\n",
       "std       1363.831326\n",
       "min          4.000000\n",
       "25%        499.000000\n",
       "50%       1094.000000\n",
       "75%       2124.000000\n",
       "max      59788.000000\n",
       "Name: Length, dtype: float64"
      ]
     },
     "execution_count": 70,
     "metadata": {},
     "output_type": "execute_result"
    }
   ],
   "source": [
    "data['Length'].describe()"
   ]
  },
  {
   "cell_type": "markdown",
   "id": "be3173d1",
   "metadata": {},
   "source": [
    "Op Delpher kijken naar de max en zien dat het daar dus een hele krant is ipv een artikel?"
   ]
  },
  {
   "cell_type": "markdown",
   "id": "0cdf5927",
   "metadata": {},
   "source": [
    "Dictionary lookup"
   ]
  },
  {
   "cell_type": "code",
   "execution_count": 64,
   "id": "d5f37d99",
   "metadata": {},
   "outputs": [
    {
     "data": {
      "text/plain": [
       "65.79296132171544"
      ]
     },
     "execution_count": 64,
     "metadata": {},
     "output_type": "execute_result"
    }
   ],
   "source": [
    "data[data['category'] == 'fiets' ]['DL score'].median()"
   ]
  },
  {
   "cell_type": "code",
   "execution_count": 65,
   "id": "d957e853",
   "metadata": {},
   "outputs": [
    {
     "data": {
      "text/plain": [
       "70.75767063243582"
      ]
     },
     "execution_count": 65,
     "metadata": {},
     "output_type": "execute_result"
    }
   ],
   "source": [
    "data[data['category'] == 'trein' ]['DL score'].median()"
   ]
  },
  {
   "cell_type": "code",
   "execution_count": 66,
   "id": "e07c7274",
   "metadata": {},
   "outputs": [
    {
     "data": {
      "text/plain": [
       "category  type          \n",
       "fiets     advertentie       48.508107\n",
       "          artikel           72.109533\n",
       "          familiebericht    27.554745\n",
       "trein     advertentie       47.058824\n",
       "          artikel           71.745711\n",
       "          familiebericht    47.692308\n",
       "Name: DL score, dtype: float64"
      ]
     },
     "execution_count": 66,
     "metadata": {},
     "output_type": "execute_result"
    }
   ],
   "source": [
    "data.groupby(['category', 'type'])['DL score'].median()"
   ]
  },
  {
   "cell_type": "code",
   "execution_count": 121,
   "id": "6f5d77f2",
   "metadata": {},
   "outputs": [],
   "source": [
    "df_artikelen = data[data['type'] == 'artikel']"
   ]
  },
  {
   "cell_type": "code",
   "execution_count": 122,
   "id": "1752b308",
   "metadata": {},
   "outputs": [
    {
     "data": {
      "text/plain": [
       "Year\n",
       "1869    71.913985\n",
       "1870    71.569921\n",
       "1871    71.330472\n",
       "1872    71.363571\n",
       "1873    71.294852\n",
       "1874    71.452037\n",
       "1875    71.558496\n",
       "1876    71.515892\n",
       "1877    70.847289\n",
       "1878    71.664327\n",
       "1879    71.150538\n",
       "1880    72.107567\n",
       "1881    72.107304\n",
       "1882    72.454946\n",
       "1883    72.328010\n",
       "1884    72.069825\n",
       "Name: DL score, dtype: float64"
      ]
     },
     "execution_count": 122,
     "metadata": {},
     "output_type": "execute_result"
    }
   ],
   "source": [
    "df_artikelen.groupby(['Year'])['DL score'].median()"
   ]
  },
  {
   "cell_type": "code",
   "execution_count": 123,
   "id": "b1aea339",
   "metadata": {},
   "outputs": [
    {
     "data": {
      "text/plain": [
       "Year  category\n",
       "1869  fiets        385\n",
       "      trein       2393\n",
       "1870  fiets         61\n",
       "      trein       2942\n",
       "1871  fiets        113\n",
       "      trein       3090\n",
       "1872  fiets         56\n",
       "      trein       3198\n",
       "1873  fiets         42\n",
       "      trein       3105\n",
       "1874  fiets         74\n",
       "      trein       3927\n",
       "1875  fiets         93\n",
       "      trein       4043\n",
       "1876  fiets        105\n",
       "      trein       3968\n",
       "1877  fiets         56\n",
       "      trein       4436\n",
       "1878  fiets        115\n",
       "      trein       4247\n",
       "1879  fiets        101\n",
       "      trein       5343\n",
       "1880  fiets         93\n",
       "      trein       4996\n",
       "1881  fiets         99\n",
       "      trein       5565\n",
       "1882  fiets        142\n",
       "      trein       5994\n",
       "1883  fiets        229\n",
       "      trein       7340\n",
       "1884  fiets        209\n",
       "      trein       7388\n",
       "Name: identifier, dtype: int64"
      ]
     },
     "execution_count": 123,
     "metadata": {},
     "output_type": "execute_result"
    }
   ],
   "source": [
    "df_artikelen.groupby(['Year', 'category'])['identifier'].count()"
   ]
  },
  {
   "cell_type": "code",
   "execution_count": 124,
   "id": "db4bc1a4",
   "metadata": {},
   "outputs": [],
   "source": [
    "df_artikelen = df_artikelen[df_artikelen['DL score'] > 75]"
   ]
  },
  {
   "cell_type": "code",
   "execution_count": 125,
   "id": "f0dbc78d",
   "metadata": {},
   "outputs": [
    {
     "data": {
      "text/plain": [
       "12536"
      ]
     },
     "execution_count": 125,
     "metadata": {},
     "output_type": "execute_result"
    }
   ],
   "source": [
    "len(df_artikelen)"
   ]
  },
  {
   "cell_type": "code",
   "execution_count": 126,
   "id": "b1c547e6",
   "metadata": {},
   "outputs": [],
   "source": [
    "df_artikelen = df_artikelen[df_artikelen['Year'] == 1869]"
   ]
  },
  {
   "cell_type": "code",
   "execution_count": 127,
   "id": "155aabc5",
   "metadata": {},
   "outputs": [
    {
     "data": {
      "text/plain": [
       "trein    462\n",
       "fiets     71\n",
       "Name: category, dtype: int64"
      ]
     },
     "execution_count": 127,
     "metadata": {},
     "output_type": "execute_result"
    }
   ],
   "source": [
    "df_artikelen.category.value_counts()"
   ]
  },
  {
   "cell_type": "code",
   "execution_count": 92,
   "id": "f47babcf",
   "metadata": {},
   "outputs": [],
   "source": [
    "df_artikelen = df_artikelen[df_artikelen['Year'] > 1874]"
   ]
  },
  {
   "cell_type": "code",
   "execution_count": 93,
   "id": "c4735c32",
   "metadata": {},
   "outputs": [],
   "source": [
    "df_artikelen = df_artikelen[df_artikelen['Year'] < 1881]"
   ]
  },
  {
   "cell_type": "code",
   "execution_count": 128,
   "id": "7d58ee09",
   "metadata": {},
   "outputs": [
    {
     "data": {
      "text/plain": [
       "trein    462\n",
       "fiets     71\n",
       "Name: category, dtype: int64"
      ]
     },
     "execution_count": 128,
     "metadata": {},
     "output_type": "execute_result"
    }
   ],
   "source": [
    "df_artikelen.category.value_counts()"
   ]
  },
  {
   "cell_type": "code",
   "execution_count": 129,
   "id": "92ea767d",
   "metadata": {},
   "outputs": [
    {
     "data": {
      "text/plain": [
       "533"
      ]
     },
     "execution_count": 129,
     "metadata": {},
     "output_type": "execute_result"
    }
   ],
   "source": [
    "len(df_artikelen)"
   ]
  },
  {
   "cell_type": "code",
   "execution_count": 130,
   "id": "588ae828",
   "metadata": {},
   "outputs": [],
   "source": [
    "df_artikelen.to_csv('data/artikelen.csv')"
   ]
  },
  {
   "cell_type": "code",
   "execution_count": null,
   "id": "092b185a",
   "metadata": {},
   "outputs": [],
   "source": []
  }
 ],
 "metadata": {
  "kernelspec": {
   "display_name": "Python 3 (ipykernel)",
   "language": "python",
   "name": "python3"
  },
  "language_info": {
   "codemirror_mode": {
    "name": "ipython",
    "version": 3
   },
   "file_extension": ".py",
   "mimetype": "text/x-python",
   "name": "python",
   "nbconvert_exporter": "python",
   "pygments_lexer": "ipython3",
   "version": "3.9.12"
  }
 },
 "nbformat": 4,
 "nbformat_minor": 5
}
