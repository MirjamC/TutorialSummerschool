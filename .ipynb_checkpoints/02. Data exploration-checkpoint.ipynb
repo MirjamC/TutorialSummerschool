{
 "cells": [
  {
   "cell_type": "markdown",
   "id": "bb999c48",
   "metadata": {},
   "source": [
    "# Data exploration"
   ]
  },
  {
   "cell_type": "markdown",
   "id": "64f41210",
   "metadata": {},
   "source": [
    "After inspecting the data and removing/fixing the anomolies, its time to dive a bit deeper into the data and explore it further. We can do this in two ways: by showing the numbers, or with the use of visualisations. Most people prefer the visualisations, but it is up to you which one you like the best. "
   ]
  },
  {
   "cell_type": "code",
   "execution_count": 91,
   "id": "83562c8c",
   "metadata": {},
   "outputs": [],
   "source": [
    "import pandas as pd"
   ]
  },
  {
   "cell_type": "markdown",
   "id": "a29b6426",
   "metadata": {},
   "source": [
    "We start with loading the updated dataframe made in the previous Notebook:"
   ]
  },
  {
   "cell_type": "code",
   "execution_count": 92,
   "id": "8b9f4440",
   "metadata": {},
   "outputs": [],
   "source": [
    "data = pd.read_csv('data/data_new.csv', index_col = 0)"
   ]
  },
  {
   "cell_type": "markdown",
   "id": "a5f4272e",
   "metadata": {},
   "source": [
    "Controleren of het Notebook goed is ingeladen"
   ]
  },
  {
   "cell_type": "code",
   "execution_count": 93,
   "id": "1ff87a6d",
   "metadata": {},
   "outputs": [
    {
     "data": {
      "text/html": [
       "<div>\n",
       "<style scoped>\n",
       "    .dataframe tbody tr th:only-of-type {\n",
       "        vertical-align: middle;\n",
       "    }\n",
       "\n",
       "    .dataframe tbody tr th {\n",
       "        vertical-align: top;\n",
       "    }\n",
       "\n",
       "    .dataframe thead th {\n",
       "        text-align: right;\n",
       "    }\n",
       "</style>\n",
       "<table border=\"1\" class=\"dataframe\">\n",
       "  <thead>\n",
       "    <tr style=\"text-align: right;\">\n",
       "      <th></th>\n",
       "      <th>identifier</th>\n",
       "      <th>type</th>\n",
       "      <th>title</th>\n",
       "      <th>date</th>\n",
       "      <th>content</th>\n",
       "      <th>subcategory</th>\n",
       "      <th>category</th>\n",
       "      <th>Year</th>\n",
       "      <th>DL score</th>\n",
       "      <th>spatial</th>\n",
       "      <th>length</th>\n",
       "    </tr>\n",
       "  </thead>\n",
       "  <tbody>\n",
       "    <tr>\n",
       "      <th>13</th>\n",
       "      <td>http://resolver.kb.nl/resolve?urn=ddd:01010307...</td>\n",
       "      <td>artikel</td>\n",
       "      <td>REGELING VAN OEN ZOMERDIENST.</td>\n",
       "      <td>1877/06/21 00:00:00</td>\n",
       "      <td>JNaar aanleiding ran het in ons nommer van 29 ...</td>\n",
       "      <td>trein</td>\n",
       "      <td>trein</td>\n",
       "      <td>1877</td>\n",
       "      <td>72.819315</td>\n",
       "      <td>Landelijk</td>\n",
       "      <td>1284</td>\n",
       "    </tr>\n",
       "    <tr>\n",
       "      <th>24</th>\n",
       "      <td>http://resolver.kb.nl/resolve?urn=ddd:01106750...</td>\n",
       "      <td>artikel</td>\n",
       "      <td>Bij de aanstaande winterdienstregeling</td>\n",
       "      <td>1880/09/15 00:00:00</td>\n",
       "      <td>Bij de aanstaande winterdienstregeling op de S...</td>\n",
       "      <td>trein</td>\n",
       "      <td>trein</td>\n",
       "      <td>1880</td>\n",
       "      <td>72.188139</td>\n",
       "      <td>Landelijk</td>\n",
       "      <td>489</td>\n",
       "    </tr>\n",
       "  </tbody>\n",
       "</table>\n",
       "</div>"
      ],
      "text/plain": [
       "                                           identifier     type  \\\n",
       "13  http://resolver.kb.nl/resolve?urn=ddd:01010307...  artikel   \n",
       "24  http://resolver.kb.nl/resolve?urn=ddd:01106750...  artikel   \n",
       "\n",
       "                                     title                 date  \\\n",
       "13           REGELING VAN OEN ZOMERDIENST.  1877/06/21 00:00:00   \n",
       "24  Bij de aanstaande winterdienstregeling  1880/09/15 00:00:00   \n",
       "\n",
       "                                              content subcategory category  \\\n",
       "13  JNaar aanleiding ran het in ons nommer van 29 ...       trein    trein   \n",
       "24  Bij de aanstaande winterdienstregeling op de S...       trein    trein   \n",
       "\n",
       "    Year   DL score    spatial  length  \n",
       "13  1877  72.819315  Landelijk    1284  \n",
       "24  1880  72.188139  Landelijk     489  "
      ]
     },
     "execution_count": 93,
     "metadata": {},
     "output_type": "execute_result"
    }
   ],
   "source": [
    "data.head(2)"
   ]
  },
  {
   "cell_type": "markdown",
   "id": "6b0cb425",
   "metadata": {},
   "source": [
    "We beginnen met het bekijken van de categoriale waardes. Zoals hierboven gezegd kan dit zowel met nummers als met visualisaties"
   ]
  },
  {
   "cell_type": "code",
   "execution_count": 94,
   "id": "3da983e0",
   "metadata": {},
   "outputs": [
    {
     "data": {
      "text/plain": [
       "trein    34878\n",
       "Name: category, dtype: int64"
      ]
     },
     "execution_count": 94,
     "metadata": {},
     "output_type": "execute_result"
    }
   ],
   "source": [
    "data.category.value_counts()"
   ]
  },
  {
   "cell_type": "code",
   "execution_count": 95,
   "id": "ba7e2f81",
   "metadata": {},
   "outputs": [
    {
     "data": {
      "text/plain": [
       "<AxesSubplot:ylabel='category'>"
      ]
     },
     "execution_count": 95,
     "metadata": {},
     "output_type": "execute_result"
    },
    {
     "data": {
      "image/png": "[encoded data removed]",
      "text/plain": [
       "<Figure size 432x288 with 1 Axes>"
      ]
     },
     "metadata": {},
     "output_type": "display_data"
    }
   ],
   "source": [
    "data.category.value_counts().plot(kind = 'pie')"
   ]
  },
  {
   "cell_type": "code",
   "execution_count": 18,
   "id": "ebdb4b57",
   "metadata": {},
   "outputs": [
    {
     "data": {
      "text/plain": [
       "<AxesSubplot:>"
      ]
     },
     "execution_count": 18,
     "metadata": {},
     "output_type": "execute_result"
    },
    {
     "data": {
      "image/png": "[encoded data removed]",
      "text/plain": [
       "<Figure size 432x288 with 1 Axes>"
      ]
     },
     "metadata": {
      "needs_background": "light"
     },
     "output_type": "display_data"
    }
   ],
   "source": [
    "data_type = data.type.value_counts()\n",
    "data_type.plot(kind = 'barh' )"
   ]
  },
  {
   "cell_type": "markdown",
   "id": "62c00d8c",
   "metadata": {},
   "source": [
    "Print nu zelf zowel een pie chart als een bar chart voor de category spatial. "
   ]
  },
  {
   "cell_type": "code",
   "execution_count": 21,
   "id": "22338d7e",
   "metadata": {},
   "outputs": [
    {
     "data": {
      "text/plain": [
       "<AxesSubplot:>"
      ]
     },
     "execution_count": 21,
     "metadata": {},
     "output_type": "execute_result"
    },
    {
     "data": {
      "image/png": "[encoded data removed]",
      "text/plain": [
       "<Figure size 432x288 with 1 Axes>"
      ]
     },
     "metadata": {
      "needs_background": "light"
     },
     "output_type": "display_data"
    }
   ],
   "source": [
    "data_type = data.subcategory.value_counts()\n",
    "data_type.plot(kind = 'barh' )"
   ]
  },
  {
   "cell_type": "markdown",
   "id": "78ed60b9",
   "metadata": {},
   "source": [
    "### Onderverdelen dataset\n",
    "\n",
    "Zoals je ziet is er een groot verschil tussen aantal artikelen over fietsn en over treinen. Hierdoor is het lastig om een goed beeld te krijgen van bijv. de subcategorieen door de scheve verdeling. We verdelen daarom voor de volgende exploratie de dataset in twee: eentje met alle artikelen over treinen, en eentje met alle artikelen over fietsen. "
   ]
  },
  {
   "cell_type": "markdown",
   "id": "c4545bec",
   "metadata": {},
   "source": [
    "Om het dataframe in twee te verdelen, passen we een filter toe. Dit kan op de voglende manier:"
   ]
  },
  {
   "cell_type": "code",
   "execution_count": 19,
   "id": "e41d9a29",
   "metadata": {},
   "outputs": [],
   "source": [
    "fiets_df = data[data['category'] == 'fiets']"
   ]
  },
  {
   "cell_type": "markdown",
   "id": "b4c8063f",
   "metadata": {},
   "source": [
    "Maak nu op dezelfde manier een dataframe voor treinen"
   ]
  },
  {
   "cell_type": "code",
   "execution_count": 31,
   "id": "b1e59c70",
   "metadata": {},
   "outputs": [],
   "source": [
    "## Schrijf hier de code\n",
    "trein_df = data[data['category'] == 'trein']"
   ]
  },
  {
   "cell_type": "markdown",
   "id": "1e196edb",
   "metadata": {},
   "source": [
    "Nu kunnen we naar de verdelding van de subcategorieën kijken. "
   ]
  },
  {
   "cell_type": "code",
   "execution_count": 22,
   "id": "4d9ac1b5",
   "metadata": {},
   "outputs": [
    {
     "data": {
      "text/plain": [
       "<AxesSubplot:>"
      ]
     },
     "execution_count": 22,
     "metadata": {},
     "output_type": "execute_result"
    },
    {
     "data": {
      "image/png": "[encoded data removed]",
      "text/plain": [
       "<Figure size 432x288 with 1 Axes>"
      ]
     },
     "metadata": {
      "needs_background": "light"
     },
     "output_type": "display_data"
    }
   ],
   "source": [
    "fiets_subcat = fiets_df.subcategory.value_counts()\n",
    "fiets_subcat.plot(kind = 'barh' )"
   ]
  },
  {
   "cell_type": "markdown",
   "id": "fdcad415",
   "metadata": {},
   "source": [
    "Maak een barchart voor de subcategorieën voor trein. "
   ]
  },
  {
   "cell_type": "markdown",
   "id": "e3ffecf7",
   "metadata": {},
   "source": [
    "We kunnen nu ook kijken naar de veredeling van het type voor zowel het fiets als het trein dataframe"
   ]
  },
  {
   "cell_type": "code",
   "execution_count": 26,
   "id": "95f6713f",
   "metadata": {},
   "outputs": [
    {
     "data": {
      "text/plain": [
       "<AxesSubplot:>"
      ]
     },
     "execution_count": 26,
     "metadata": {},
     "output_type": "execute_result"
    },
    {
     "data": {
      "image/png": "[encoded data removed]",
      "text/plain": [
       "<Figure size 432x288 with 1 Axes>"
      ]
     },
     "metadata": {
      "needs_background": "light"
     },
     "output_type": "display_data"
    }
   ],
   "source": [
    "fiets_type = fiets_df.type.value_counts()\n",
    "fiets_type.plot(kind = 'barh' )"
   ]
  },
  {
   "cell_type": "code",
   "execution_count": 32,
   "id": "7b594891",
   "metadata": {},
   "outputs": [
    {
     "data": {
      "text/plain": [
       "<AxesSubplot:>"
      ]
     },
     "execution_count": 32,
     "metadata": {},
     "output_type": "execute_result"
    },
    {
     "data": {
      "image/png": "[encoded data removed]",
      "text/plain": [
       "<Figure size 432x288 with 1 Axes>"
      ]
     },
     "metadata": {
      "needs_background": "light"
     },
     "output_type": "display_data"
    }
   ],
   "source": [
    "trein_type = trein_df.type.value_counts()\n",
    "trein_type.plot(kind = 'barh' )"
   ]
  },
  {
   "cell_type": "markdown",
   "id": "fee00169",
   "metadata": {},
   "source": [
    "Wat is het verschil tussen de twee? (andere verhouding)"
   ]
  },
  {
   "cell_type": "markdown",
   "id": "9a3becdc",
   "metadata": {},
   "source": [
    "We kunnen ook kijken naar de verdeling over de jaren. "
   ]
  },
  {
   "cell_type": "code",
   "execution_count": 51,
   "id": "fd459612",
   "metadata": {},
   "outputs": [
    {
     "data": {
      "text/plain": [
       "<AxesSubplot:>"
      ]
     },
     "execution_count": 51,
     "metadata": {},
     "output_type": "execute_result"
    },
    {
     "data": {
      "image/png": "[encoded data removed]",
      "text/plain": [
       "<Figure size 432x288 with 1 Axes>"
      ]
     },
     "metadata": {
      "needs_background": "light"
     },
     "output_type": "display_data"
    }
   ],
   "source": [
    "fiets_df.Year.value_counts().plot(kind = 'bar')"
   ]
  },
  {
   "cell_type": "code",
   "execution_count": 53,
   "id": "2dfb45c7",
   "metadata": {},
   "outputs": [
    {
     "data": {
      "text/plain": [
       "1869    192\n",
       "1870     42\n",
       "Name: Year, dtype: int64"
      ]
     },
     "execution_count": 53,
     "metadata": {},
     "output_type": "execute_result"
    }
   ],
   "source": [
    "fiets_tijd = fiets_df.Year.value_counts().sort_index()\n",
    "fiets_tijd.head(2)"
   ]
  },
  {
   "cell_type": "code",
   "execution_count": 52,
   "id": "b4164d0b",
   "metadata": {},
   "outputs": [
    {
     "data": {
      "text/plain": [
       "<AxesSubplot:>"
      ]
     },
     "execution_count": 52,
     "metadata": {},
     "output_type": "execute_result"
    },
    {
     "data": {
      "image/png": "[encoded data removed]",
      "text/plain": [
       "<Figure size 432x288 with 1 Axes>"
      ]
     },
     "metadata": {
      "needs_background": "light"
     },
     "output_type": "display_data"
    }
   ],
   "source": [
    "fiets_tijd.plot(kind = 'bar')"
   ]
  },
  {
   "cell_type": "markdown",
   "id": "2b5f1eb8",
   "metadata": {},
   "source": [
    "Doe nu hetzelfde voor het trein dataframe."
   ]
  },
  {
   "cell_type": "markdown",
   "id": "0eb08e86",
   "metadata": {},
   "source": [
    "We kunnen ook twee categorieën combineren. Als je bijvoorbeeld benieuwd bent of de verhouding advertenties/artikelen voor de categorie fietsen over de jaren heen gelijk verdeeld is, kun je dit weergeven. \n",
    "\n",
    "Hiervoor maak je eerst een tussentijdse tabel, genaamd crosstabs. "
   ]
  },
  {
   "cell_type": "code",
   "execution_count": 40,
   "id": "192c6346",
   "metadata": {},
   "outputs": [],
   "source": [
    "temp_fiets = pd.crosstab(index=fiets_df['Year'], columns=fiets_df['type'])"
   ]
  },
  {
   "cell_type": "code",
   "execution_count": 54,
   "id": "5a237350",
   "metadata": {},
   "outputs": [
    {
     "data": {
      "text/html": [
       "<div>\n",
       "<style scoped>\n",
       "    .dataframe tbody tr th:only-of-type {\n",
       "        vertical-align: middle;\n",
       "    }\n",
       "\n",
       "    .dataframe tbody tr th {\n",
       "        vertical-align: top;\n",
       "    }\n",
       "\n",
       "    .dataframe thead th {\n",
       "        text-align: right;\n",
       "    }\n",
       "</style>\n",
       "<table border=\"1\" class=\"dataframe\">\n",
       "  <thead>\n",
       "    <tr style=\"text-align: right;\">\n",
       "      <th>type</th>\n",
       "      <th>advertentie</th>\n",
       "      <th>artikel</th>\n",
       "      <th>familiebericht</th>\n",
       "    </tr>\n",
       "    <tr>\n",
       "      <th>Year</th>\n",
       "      <th></th>\n",
       "      <th></th>\n",
       "      <th></th>\n",
       "    </tr>\n",
       "  </thead>\n",
       "  <tbody>\n",
       "    <tr>\n",
       "      <th>1869</th>\n",
       "      <td>27</td>\n",
       "      <td>165</td>\n",
       "      <td>0</td>\n",
       "    </tr>\n",
       "    <tr>\n",
       "      <th>1870</th>\n",
       "      <td>8</td>\n",
       "      <td>33</td>\n",
       "      <td>1</td>\n",
       "    </tr>\n",
       "  </tbody>\n",
       "</table>\n",
       "</div>"
      ],
      "text/plain": [
       "type  advertentie  artikel  familiebericht\n",
       "Year                                      \n",
       "1869           27      165               0\n",
       "1870            8       33               1"
      ]
     },
     "execution_count": 54,
     "metadata": {},
     "output_type": "execute_result"
    }
   ],
   "source": [
    "temp_fiets.head(2)"
   ]
  },
  {
   "cell_type": "code",
   "execution_count": 42,
   "id": "d27b7b67",
   "metadata": {},
   "outputs": [
    {
     "data": {
      "text/plain": [
       "<AxesSubplot:xlabel='Year'>"
      ]
     },
     "execution_count": 42,
     "metadata": {},
     "output_type": "execute_result"
    },
    {
     "data": {
      "image/png": "[encoded data removed]",
      "text/plain": [
       "<Figure size 432x288 with 1 Axes>"
      ]
     },
     "metadata": {
      "needs_background": "light"
     },
     "output_type": "display_data"
    }
   ],
   "source": [
    "temp_fiets.plot.bar(stacked = True)"
   ]
  },
  {
   "cell_type": "markdown",
   "id": "f6f70734",
   "metadata": {},
   "source": [
    "Maak zelf een gestapelde barchart, bijvoorbeeld door te kijken naar:\n",
    "* te veredeling van het type bericht over tijd voor treinen\n",
    "* te kijken naar de verdeling van het type bericht naar verspreidingsgebied (spatial)\n",
    "* te kijken naar de veredeling van de subcategorieën per verspreidingsgebied"
   ]
  },
  {
   "cell_type": "code",
   "execution_count": 59,
   "id": "f49a113b",
   "metadata": {},
   "outputs": [
    {
     "data": {
      "text/plain": [
       "<AxesSubplot:xlabel='type'>"
      ]
     },
     "execution_count": 59,
     "metadata": {},
     "output_type": "execute_result"
    },
    {
     "data": {
      "image/png": "[encoded data removed]",
      "text/plain": [
       "<Figure size 432x288 with 1 Axes>"
      ]
     },
     "metadata": {
      "needs_background": "light"
     },
     "output_type": "display_data"
    }
   ],
   "source": [
    "#Zelf doen:\n",
    "pd.crosstab(index=fiets_df['type'], columns=fiets_df['subcategory']).plot.bar(stacked = True)"
   ]
  },
  {
   "cell_type": "markdown",
   "id": "aa81a76f",
   "metadata": {},
   "source": [
    "Als laatste is het interessant om verder te kijken naar de dictionary score. Dit geeft meer informatie over de kwaliteit van de getranskribeerde teksten, en daarbij informatie over hoe bruikbaar deze teksten zijn voor de volgende stappen. \n",
    "\n",
    "We beginnen met de functie describe zodat we meer informatie krijgen over de verdeling"
   ]
  },
  {
   "cell_type": "code",
   "execution_count": 64,
   "id": "e2a48bb4",
   "metadata": {},
   "outputs": [
    {
     "data": {
      "text/plain": [
       "count    34881.000000\n",
       "mean        65.718991\n",
       "std         12.114718\n",
       "min          9.749671\n",
       "25%         61.522346\n",
       "50%         70.500677\n",
       "75%         73.833671\n",
       "max         84.063374\n",
       "Name: DL score, dtype: float64"
      ]
     },
     "execution_count": 64,
     "metadata": {},
     "output_type": "execute_result"
    }
   ],
   "source": [
    "data['DL score'].describe()"
   ]
  },
  {
   "cell_type": "markdown",
   "id": "9ed4a30d",
   "metadata": {},
   "source": [
    "Hier zie je dat het gemiddelde 65 is, en dat de waardes uiteenlopen van 9 tot 84. We kunnen kijken of gemiddeld genomen de teksten in het fiets of het trein stuk beter zijn."
   ]
  },
  {
   "cell_type": "code",
   "execution_count": 65,
   "id": "9cd1c44a",
   "metadata": {},
   "outputs": [
    {
     "data": {
      "text/plain": [
       "count    1230.000000\n",
       "mean       59.399305\n",
       "std        13.959386\n",
       "min        12.337662\n",
       "25%        48.822241\n",
       "50%        61.096859\n",
       "75%        72.452810\n",
       "max        80.884956\n",
       "Name: DL score, dtype: float64"
      ]
     },
     "execution_count": 65,
     "metadata": {},
     "output_type": "execute_result"
    }
   ],
   "source": [
    "fiets_df['DL score'].describe()"
   ]
  },
  {
   "cell_type": "code",
   "execution_count": 67,
   "id": "19f6fdc9",
   "metadata": {},
   "outputs": [
    {
     "data": {
      "text/plain": [
       "count    33651.000000\n",
       "mean        65.949986\n",
       "std         11.979184\n",
       "min          9.749671\n",
       "25%         62.308530\n",
       "50%         70.599803\n",
       "75%         73.867226\n",
       "max         84.063374\n",
       "Name: DL score, dtype: float64"
      ]
     },
     "execution_count": 67,
     "metadata": {},
     "output_type": "execute_result"
    }
   ],
   "source": [
    "## Zelf doen\n",
    "trein_df['DL score'].describe()"
   ]
  },
  {
   "cell_type": "markdown",
   "id": "9a2c8aea",
   "metadata": {},
   "source": [
    "We kunnen ook kijken of er verschil is tussen de gemiddelde score tussen de verschillende type berichten. Dit kunnen we doen met een groupby functie. "
   ]
  },
  {
   "cell_type": "code",
   "execution_count": 69,
   "id": "90996531",
   "metadata": {},
   "outputs": [
    {
     "data": {
      "text/plain": [
       "type\n",
       "advertentie       48.326653\n",
       "artikel           68.646572\n",
       "familiebericht    33.079562\n",
       "Name: DL score, dtype: float64"
      ]
     },
     "execution_count": 69,
     "metadata": {},
     "output_type": "execute_result"
    }
   ],
   "source": [
    "fiets_df.groupby('type')['DL score'].mean()"
   ]
  },
  {
   "cell_type": "code",
   "execution_count": 70,
   "id": "3caadee9",
   "metadata": {},
   "outputs": [
    {
     "data": {
      "text/plain": [
       "type\n",
       "advertentie       46.552411\n",
       "artikel           69.903810\n",
       "familiebericht    40.172834\n",
       "Name: DL score, dtype: float64"
      ]
     },
     "execution_count": 70,
     "metadata": {},
     "output_type": "execute_result"
    }
   ],
   "source": [
    "## zelf doen\n"
   ]
  },
  {
   "cell_type": "code",
   "execution_count": null,
   "id": "c5d207c8",
   "metadata": {},
   "outputs": [],
   "source": [
    "## zelf doen: DL score bekijken per subcategory of verspreidingsgebied"
   ]
  }
 ],
 "metadata": {
  "kernelspec": {
   "display_name": "Python 3 (ipykernel)",
   "language": "python",
   "name": "python3"
  },
  "language_info": {
   "codemirror_mode": {
    "name": "ipython",
    "version": 3
   },
   "file_extension": ".py",
   "mimetype": "text/x-python",
   "name": "python",
   "nbconvert_exporter": "python",
   "pygments_lexer": "ipython3",
   "version": "3.9.12"
  }
 },
 "nbformat": 4,
 "nbformat_minor": 5
}
